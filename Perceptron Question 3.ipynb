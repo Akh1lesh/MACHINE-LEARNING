{
 "cells": [
  {
   "cell_type": "code",
   "execution_count": 2,
   "id": "243f90a6",
   "metadata": {},
   "outputs": [
    {
     "name": "stdout",
     "output_type": "stream",
     "text": [
      "OR(0, 1) = 1\n",
      "OR(1, 1) = 1\n",
      "OR(0, 0) = 0\n",
      "OR(1, 0) = 1\n"
     ]
    }
   ],
   "source": [
    "import numpy as np\n",
    "\n",
    "def unitStep(v):\n",
    "    if v >= 0:\n",
    "        return 1\n",
    "    else:\n",
    "        return 0\n",
    "\n",
    "def perceptronModel(x, w, b):\n",
    "    v = np.dot(w, x) + b\n",
    "    y = unitStep(v)\n",
    "    return y\n",
    "\n",
    "def OR_logicFunction(x):\n",
    "    w = np.array([1.1, 1.1])\n",
    "    b = -1\n",
    "    return perceptronModel(x, w, b)\n",
    "\n",
    "# testing the Perceptron Model\n",
    "test1 = np.array([0, 1])\n",
    "test2 = np.array([1, 1])\n",
    "test3 = np.array([0, 0])\n",
    "test4 = np.array([1, 0])\n",
    "\n",
    "print(\"OR({}, {}) = {}\".format(0, 1, OR_logicFunction(test1)))\n",
    "print(\"OR({}, {}) = {}\".format(1, 1, OR_logicFunction(test2)))\n",
    "print(\"OR({}, {}) = {}\".format(0, 0, OR_logicFunction(test3)))\n",
    "print(\"OR({}, {}) = {}\".format(1, 0, OR_logicFunction(test4)))\n"
   ]
  },
  {
   "cell_type": "code",
   "execution_count": 3,
   "id": "5609577f",
   "metadata": {},
   "outputs": [
    {
     "data": {
      "text/html": [
       "<div>\n",
       "<style scoped>\n",
       "    .dataframe tbody tr th:only-of-type {\n",
       "        vertical-align: middle;\n",
       "    }\n",
       "\n",
       "    .dataframe tbody tr th {\n",
       "        vertical-align: top;\n",
       "    }\n",
       "\n",
       "    .dataframe thead th {\n",
       "        text-align: right;\n",
       "    }\n",
       "</style>\n",
       "<table border=\"1\" class=\"dataframe\">\n",
       "  <thead>\n",
       "    <tr style=\"text-align: right;\">\n",
       "      <th></th>\n",
       "      <th>X1</th>\n",
       "      <th>X2</th>\n",
       "      <th>Output</th>\n",
       "    </tr>\n",
       "  </thead>\n",
       "  <tbody>\n",
       "    <tr>\n",
       "      <th>0</th>\n",
       "      <td>0</td>\n",
       "      <td>1</td>\n",
       "      <td>1</td>\n",
       "    </tr>\n",
       "    <tr>\n",
       "      <th>1</th>\n",
       "      <td>1</td>\n",
       "      <td>1</td>\n",
       "      <td>1</td>\n",
       "    </tr>\n",
       "    <tr>\n",
       "      <th>2</th>\n",
       "      <td>0</td>\n",
       "      <td>0</td>\n",
       "      <td>0</td>\n",
       "    </tr>\n",
       "    <tr>\n",
       "      <th>3</th>\n",
       "      <td>1</td>\n",
       "      <td>0</td>\n",
       "      <td>1</td>\n",
       "    </tr>\n",
       "  </tbody>\n",
       "</table>\n",
       "</div>"
      ],
      "text/plain": [
       "   X1  X2  Output\n",
       "0   0   1       1\n",
       "1   1   1       1\n",
       "2   0   0       0\n",
       "3   1   0       1"
      ]
     },
     "execution_count": 3,
     "metadata": {},
     "output_type": "execute_result"
    }
   ],
   "source": [
    "import matplotlib.pyplot as plt\n",
    "import pandas as pd\n",
    "Input = [[0,1,1],[1,1,1],[0,0,0],[1,0,1]]\n",
    "df = pd.DataFrame(Input,columns=['X1','X2','Output'])\n",
    "df"
   ]
  },
  {
   "cell_type": "code",
   "execution_count": 5,
   "id": "5ecc0133",
   "metadata": {},
   "outputs": [
    {
     "name": "stdout",
     "output_type": "stream",
     "text": [
      "AND(0, 1) = 0\n",
      "AND(1, 1) = 1\n",
      "AND(0, 0) = 0\n",
      "AND(1, 0) = 0\n"
     ]
    }
   ],
   "source": [
    "import numpy as np\n",
    "\n",
    "def unitStep(v):\n",
    "    if v >= 0:\n",
    "        return 1\n",
    "    else:\n",
    "        return 0\n",
    "\n",
    "def perceptronModel(x, w, b):\n",
    "    v = np.dot(w, x) + b\n",
    "    y = unitStep(v)\n",
    "    return y\n",
    "\n",
    "def AND_logicFunction(x):\n",
    "    w = np.array([0.6, 0.6])\n",
    "    b = -1\n",
    "    return perceptronModel(x, w, b)\n",
    "\n",
    "test1 = np.array([0, 1])\n",
    "test2 = np.array([1, 1])\n",
    "test3 = np.array([0, 0])\n",
    "test4 = np.array([1, 0])\n",
    "\n",
    "print(\"AND({}, {}) = {}\".format(0, 1, AND_logicFunction(test1)))\n",
    "print(\"AND({}, {}) = {}\".format(1, 1, AND_logicFunction(test2)))\n",
    "print(\"AND({}, {}) = {}\".format(0, 0, AND_logicFunction(test3)))\n",
    "print(\"AND({}, {}) = {}\".format(1, 0, AND_logicFunction(test4)))\n"
   ]
  },
  {
   "cell_type": "code",
   "execution_count": 6,
   "id": "c0daa150",
   "metadata": {},
   "outputs": [
    {
     "data": {
      "text/html": [
       "<div>\n",
       "<style scoped>\n",
       "    .dataframe tbody tr th:only-of-type {\n",
       "        vertical-align: middle;\n",
       "    }\n",
       "\n",
       "    .dataframe tbody tr th {\n",
       "        vertical-align: top;\n",
       "    }\n",
       "\n",
       "    .dataframe thead th {\n",
       "        text-align: right;\n",
       "    }\n",
       "</style>\n",
       "<table border=\"1\" class=\"dataframe\">\n",
       "  <thead>\n",
       "    <tr style=\"text-align: right;\">\n",
       "      <th></th>\n",
       "      <th>X1</th>\n",
       "      <th>X2</th>\n",
       "      <th>Output</th>\n",
       "    </tr>\n",
       "  </thead>\n",
       "  <tbody>\n",
       "    <tr>\n",
       "      <th>0</th>\n",
       "      <td>0</td>\n",
       "      <td>0</td>\n",
       "      <td>0</td>\n",
       "    </tr>\n",
       "    <tr>\n",
       "      <th>1</th>\n",
       "      <td>0</td>\n",
       "      <td>1</td>\n",
       "      <td>1</td>\n",
       "    </tr>\n",
       "    <tr>\n",
       "      <th>2</th>\n",
       "      <td>1</td>\n",
       "      <td>0</td>\n",
       "      <td>1</td>\n",
       "    </tr>\n",
       "    <tr>\n",
       "      <th>3</th>\n",
       "      <td>1</td>\n",
       "      <td>1</td>\n",
       "      <td>0</td>\n",
       "    </tr>\n",
       "  </tbody>\n",
       "</table>\n",
       "</div>"
      ],
      "text/plain": [
       "   X1  X2  Output\n",
       "0   0   0       0\n",
       "1   0   1       1\n",
       "2   1   0       1\n",
       "3   1   1       0"
      ]
     },
     "execution_count": 6,
     "metadata": {},
     "output_type": "execute_result"
    }
   ],
   "source": [
    "#XOR gate\n",
    "Input = [[0,0,0],[0,1,1],[1,0,1],[1,1,0]]\n",
    "df1 = pd.DataFrame(Input,columns=['X1','X2','Output'])\n",
    "df1"
   ]
  },
  {
   "cell_type": "code",
   "execution_count": 7,
   "id": "b97ba4ca",
   "metadata": {},
   "outputs": [
    {
     "name": "stdout",
     "output_type": "stream",
     "text": [
      "Z1(0, 0) = 0\n",
      "Z1(0, 1) = 0\n",
      "Z1(1, 0) = 1\n",
      "Z1(1, 1) = 0\n"
     ]
    },
    {
     "data": {
      "text/plain": [
       "[0, 0, 1, 0]"
      ]
     },
     "execution_count": 7,
     "metadata": {},
     "output_type": "execute_result"
    }
   ],
   "source": [
    "# #Output = Z1 + Z2\n",
    "# #Z1 = X1*~X2\n",
    "# p = []\n",
    "# for i in range(len(df1['X1'])):\n",
    "#     p.append(df1['X1'][i])\n",
    "# print(p)\n",
    "# q= []\n",
    "# for i in range(len(df1['X2'])):\n",
    "#     q.append(df1['X2'][i])\n",
    "# print(q)\n",
    "# z = []\n",
    "# for i in range(len(df1['X1'])):\n",
    "#     z.append(p[i]*np.logical_not(q[i]).astype(int))\n",
    "# z\n",
    "import numpy as np\n",
    "\n",
    "def unitStep(v):\n",
    "    if v >= 0:\n",
    "        return 1\n",
    "    else:\n",
    "        return 0\n",
    "\n",
    "def perceptronModel(x, w, b):\n",
    "    v = np.dot(w, x) + b\n",
    "    y = unitStep(v)\n",
    "    return y\n",
    "\n",
    "def Z1_logicFunction(x):\n",
    "    w = np.array([1, -0.5])\n",
    "    b = -1\n",
    "    return perceptronModel(x, w, b)\n",
    "\n",
    "test = [[],[],[],[]]\n",
    "for i in range(len(df1['X1'])):\n",
    "    test[i].append(df1['X1'][i])\n",
    "for j in range(len(df1['X2'])):\n",
    "    test[j].append(df1['X2'][j])\n",
    "test\n",
    "    \n",
    "# # testing the Perceptron Model\n",
    "# test1 = np.array([0, 0])\n",
    "# test2 = np.array([0, 1])\n",
    "# test3 = np.array([1, 0])\n",
    "# test4 = np.array([1, 1])\n",
    "z1 = []\n",
    "for i in range(len(test)):\n",
    "    print(\"Z1({}, {}) = {}\".format(test[i][0], test[i][1], Z1_logicFunction(test[i])))\n",
    "    z1.append(Z1_logicFunction(test[i]))\n",
    "    #print(test[i])\n",
    "# print(\"XOR({}, {}) = {}\".format(0, 1, OR_logicFunction(test2)))\n",
    "# print(\"XOR({}, {}) = {}\".format(1, 0, OR_logicFunction(test3)))\n",
    "# print(\"XOR({}, {}) = {}\".format(1, 1, OR_logicFunction(test4)))\n",
    "z1"
   ]
  },
  {
   "cell_type": "code",
   "execution_count": 8,
   "id": "7470c934",
   "metadata": {},
   "outputs": [
    {
     "name": "stdout",
     "output_type": "stream",
     "text": [
      "Z2(0, 0) = 0\n",
      "Z2(0, 1) = 1\n",
      "Z2(1, 0) = 0\n",
      "Z2(1, 1) = 0\n"
     ]
    },
    {
     "data": {
      "text/plain": [
       "[0, 1, 0, 0]"
      ]
     },
     "execution_count": 8,
     "metadata": {},
     "output_type": "execute_result"
    }
   ],
   "source": [
    "#Output = Z1 + Z2\n",
    "#Z2 = ~X1*X2\n",
    "# r = []\n",
    "# for i in range(len(df1['X1'])):\n",
    "#     p.append(df1['X1'][i])\n",
    "# s = []\n",
    "# for i in range(len(df1['X2'])):\n",
    "#     q.append(df1['X2'][i])\n",
    "# t = []\n",
    "# for i in range(len(df1['X1'])):\n",
    "#     t.append(q[i]*np.logical_not(p[i]).astype(int))\n",
    "# t\n",
    "\n",
    "import numpy as np\n",
    "\n",
    "def unitStep(v):\n",
    "    if v >= 0:\n",
    "        return 1\n",
    "    else:\n",
    "        return 0\n",
    "\n",
    "def perceptronModel(x, w, b):\n",
    "    v = np.dot(w, x) + b\n",
    "    y = unitStep(v)\n",
    "    return y\n",
    "\n",
    "def Z2_logicFunction(x):\n",
    "    w = np.array([-0.5, 1])\n",
    "    b = -1\n",
    "    return perceptronModel(x, w, b)\n",
    "\n",
    "test = [[],[],[],[]]\n",
    "for i in range(len(df1['X1'])):\n",
    "    test[i].append(df1['X1'][i])\n",
    "for j in range(len(df1['X2'])):\n",
    "    test[j].append(df1['X2'][j])\n",
    "test\n",
    "    \n",
    "# # testing the Perceptron Model\n",
    "# test1 = np.array([0, 0])\n",
    "# test2 = np.array([0, 1])\n",
    "# test3 = np.array([1, 0])\n",
    "# test4 = np.array([1, 1])\n",
    "z2 = []\n",
    "for i in range(len(test)):\n",
    "    print(\"Z2({}, {}) = {}\".format(test[i][0], test[i][1], Z2_logicFunction(test[i])))\n",
    "    z2.append(Z2_logicFunction(test[i]))\n",
    "    #print(test[i])\n",
    "# print(\"XOR({}, {}) = {}\".format(0, 1, OR_logicFunction(test2)))\n",
    "# print(\"XOR({}, {}) = {}\".format(1, 0, OR_logicFunction(test3)))\n",
    "# print(\"XOR({}, {}) = {}\".format(1, 1, OR_logicFunction(test4)))\n",
    "z2"
   ]
  },
  {
   "cell_type": "code",
   "execution_count": 9,
   "id": "97c03e35",
   "metadata": {},
   "outputs": [],
   "source": [
    "df1['Z1'] = z1"
   ]
  },
  {
   "cell_type": "code",
   "execution_count": 10,
   "id": "48bd5a90",
   "metadata": {},
   "outputs": [],
   "source": [
    "df1['Z2'] = z2"
   ]
  },
  {
   "cell_type": "code",
   "execution_count": 11,
   "id": "a4a915e0",
   "metadata": {},
   "outputs": [
    {
     "data": {
      "text/html": [
       "<div>\n",
       "<style scoped>\n",
       "    .dataframe tbody tr th:only-of-type {\n",
       "        vertical-align: middle;\n",
       "    }\n",
       "\n",
       "    .dataframe tbody tr th {\n",
       "        vertical-align: top;\n",
       "    }\n",
       "\n",
       "    .dataframe thead th {\n",
       "        text-align: right;\n",
       "    }\n",
       "</style>\n",
       "<table border=\"1\" class=\"dataframe\">\n",
       "  <thead>\n",
       "    <tr style=\"text-align: right;\">\n",
       "      <th></th>\n",
       "      <th>X1</th>\n",
       "      <th>X2</th>\n",
       "      <th>Output</th>\n",
       "      <th>Z1</th>\n",
       "      <th>Z2</th>\n",
       "    </tr>\n",
       "  </thead>\n",
       "  <tbody>\n",
       "    <tr>\n",
       "      <th>0</th>\n",
       "      <td>0</td>\n",
       "      <td>0</td>\n",
       "      <td>0</td>\n",
       "      <td>0</td>\n",
       "      <td>0</td>\n",
       "    </tr>\n",
       "    <tr>\n",
       "      <th>1</th>\n",
       "      <td>0</td>\n",
       "      <td>1</td>\n",
       "      <td>1</td>\n",
       "      <td>0</td>\n",
       "      <td>1</td>\n",
       "    </tr>\n",
       "    <tr>\n",
       "      <th>2</th>\n",
       "      <td>1</td>\n",
       "      <td>0</td>\n",
       "      <td>1</td>\n",
       "      <td>1</td>\n",
       "      <td>0</td>\n",
       "    </tr>\n",
       "    <tr>\n",
       "      <th>3</th>\n",
       "      <td>1</td>\n",
       "      <td>1</td>\n",
       "      <td>0</td>\n",
       "      <td>0</td>\n",
       "      <td>0</td>\n",
       "    </tr>\n",
       "  </tbody>\n",
       "</table>\n",
       "</div>"
      ],
      "text/plain": [
       "   X1  X2  Output  Z1  Z2\n",
       "0   0   0       0   0   0\n",
       "1   0   1       1   0   1\n",
       "2   1   0       1   1   0\n",
       "3   1   1       0   0   0"
      ]
     },
     "execution_count": 11,
     "metadata": {},
     "output_type": "execute_result"
    }
   ],
   "source": [
    "df1"
   ]
  },
  {
   "cell_type": "code",
   "execution_count": 12,
   "id": "018a092f",
   "metadata": {},
   "outputs": [
    {
     "name": "stdout",
     "output_type": "stream",
     "text": [
      "XOR(0, 0) = 0\n",
      "XOR(0, 1) = 1\n",
      "XOR(1, 0) = 1\n",
      "XOR(0, 0) = 0\n"
     ]
    },
    {
     "data": {
      "text/plain": [
       "[0, 1, 1, 0]"
      ]
     },
     "execution_count": 12,
     "metadata": {},
     "output_type": "execute_result"
    }
   ],
   "source": [
    "import numpy as np\n",
    "\n",
    "def unitStep(v):\n",
    "    if v >= 0:\n",
    "        return 1\n",
    "    else:\n",
    "        return 0\n",
    "\n",
    "def perceptronModel(x, w, b):\n",
    "    v = np.dot(w, x) + b\n",
    "    y = unitStep(v)\n",
    "    return y\n",
    "\n",
    "def XOR_logicFunction(x):\n",
    "    w = np.array([1, 1])\n",
    "    b = -1\n",
    "    return perceptronModel(x, w, b)\n",
    "\n",
    "test = [[],[],[],[]]\n",
    "for i in range(len(df1['Z1'])):\n",
    "    test[i].append(df1['Z1'][i])\n",
    "for j in range(len(df1['Z2'])):\n",
    "    test[j].append(df1['Z2'][j])\n",
    "test\n",
    "    \n",
    "# # testing the Perceptron Model\n",
    "# test1 = np.array([0, 0])\n",
    "# test2 = np.array([0, 1])\n",
    "# test3 = np.array([1, 0])\n",
    "# test4 = np.array([1, 1])\n",
    "XOR_output = []\n",
    "for i in range(len(test)):\n",
    "    print(\"XOR({}, {}) = {}\".format(test[i][0], test[i][1], XOR_logicFunction(test[i])))\n",
    "    XOR_output.append(XOR_logicFunction(test[i]))\n",
    "    #print(test[i])\n",
    "# print(\"XOR({}, {}) = {}\".format(0, 1, OR_logicFunction(test2)))\n",
    "# print(\"XOR({}, {}) = {}\".format(1, 0, OR_logicFunction(test3)))\n",
    "# print(\"XOR({}, {}) = {}\".format(1, 1, OR_logicFunction(test4)))\n",
    "XOR_output"
   ]
  },
  {
   "cell_type": "code",
   "execution_count": 13,
   "id": "1fe8139f",
   "metadata": {},
   "outputs": [],
   "source": [
    "df1['XOR_output'] = XOR_output"
   ]
  },
  {
   "cell_type": "code",
   "execution_count": 14,
   "id": "55df642a",
   "metadata": {},
   "outputs": [
    {
     "data": {
      "text/html": [
       "<div>\n",
       "<style scoped>\n",
       "    .dataframe tbody tr th:only-of-type {\n",
       "        vertical-align: middle;\n",
       "    }\n",
       "\n",
       "    .dataframe tbody tr th {\n",
       "        vertical-align: top;\n",
       "    }\n",
       "\n",
       "    .dataframe thead th {\n",
       "        text-align: right;\n",
       "    }\n",
       "</style>\n",
       "<table border=\"1\" class=\"dataframe\">\n",
       "  <thead>\n",
       "    <tr style=\"text-align: right;\">\n",
       "      <th></th>\n",
       "      <th>X1</th>\n",
       "      <th>X2</th>\n",
       "      <th>Output</th>\n",
       "      <th>Z1</th>\n",
       "      <th>Z2</th>\n",
       "      <th>XOR_output</th>\n",
       "    </tr>\n",
       "  </thead>\n",
       "  <tbody>\n",
       "    <tr>\n",
       "      <th>0</th>\n",
       "      <td>0</td>\n",
       "      <td>0</td>\n",
       "      <td>0</td>\n",
       "      <td>0</td>\n",
       "      <td>0</td>\n",
       "      <td>0</td>\n",
       "    </tr>\n",
       "    <tr>\n",
       "      <th>1</th>\n",
       "      <td>0</td>\n",
       "      <td>1</td>\n",
       "      <td>1</td>\n",
       "      <td>0</td>\n",
       "      <td>1</td>\n",
       "      <td>1</td>\n",
       "    </tr>\n",
       "    <tr>\n",
       "      <th>2</th>\n",
       "      <td>1</td>\n",
       "      <td>0</td>\n",
       "      <td>1</td>\n",
       "      <td>1</td>\n",
       "      <td>0</td>\n",
       "      <td>1</td>\n",
       "    </tr>\n",
       "    <tr>\n",
       "      <th>3</th>\n",
       "      <td>1</td>\n",
       "      <td>1</td>\n",
       "      <td>0</td>\n",
       "      <td>0</td>\n",
       "      <td>0</td>\n",
       "      <td>0</td>\n",
       "    </tr>\n",
       "  </tbody>\n",
       "</table>\n",
       "</div>"
      ],
      "text/plain": [
       "   X1  X2  Output  Z1  Z2  XOR_output\n",
       "0   0   0       0   0   0           0\n",
       "1   0   1       1   0   1           1\n",
       "2   1   0       1   1   0           1\n",
       "3   1   1       0   0   0           0"
      ]
     },
     "execution_count": 14,
     "metadata": {},
     "output_type": "execute_result"
    }
   ],
   "source": [
    "df1"
   ]
  },
  {
   "cell_type": "code",
   "execution_count": null,
   "id": "f126ddee",
   "metadata": {},
   "outputs": [],
   "source": []
  },
  {
   "cell_type": "code",
   "execution_count": null,
   "id": "cac0ea04",
   "metadata": {},
   "outputs": [],
   "source": []
  },
  {
   "cell_type": "code",
   "execution_count": null,
   "id": "720451ea",
   "metadata": {},
   "outputs": [],
   "source": []
  },
  {
   "cell_type": "code",
   "execution_count": null,
   "id": "9253eefb",
   "metadata": {},
   "outputs": [],
   "source": []
  }
 ],
 "metadata": {
  "kernelspec": {
   "display_name": "Python 3 (ipykernel)",
   "language": "python",
   "name": "python3"
  },
  "language_info": {
   "codemirror_mode": {
    "name": "ipython",
    "version": 3
   },
   "file_extension": ".py",
   "mimetype": "text/x-python",
   "name": "python",
   "nbconvert_exporter": "python",
   "pygments_lexer": "ipython3",
   "version": "3.7.16"
  }
 },
 "nbformat": 4,
 "nbformat_minor": 5
}
