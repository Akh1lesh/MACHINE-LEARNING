{
  "nbformat": 4,
  "nbformat_minor": 0,
  "metadata": {
    "colab": {
      "provenance": []
    },
    "kernelspec": {
      "name": "python3",
      "display_name": "Python 3"
    },
    "language_info": {
      "name": "python"
    }
  },
  "cells": [
    {
      "cell_type": "markdown",
      "source": [
        "**Classification-Data.csv contains feature which classifies into two classes whether a person has diabetes or not depending on data provided.Build classification model using discriminant function and classify the model such that when a new data is given to model then it classifies in the mentioned two classes whether a person has diabetes or not.**"
      ],
      "metadata": {
        "id": "jNWV_NTKFR4w"
      }
    },
    {
      "cell_type": "code",
      "execution_count": null,
      "metadata": {
        "id": "MOKRVEGkRZ6u"
      },
      "outputs": [],
      "source": [
        "import numpy as np\n",
        "import pandas as pd\n",
        "import math\n",
        "df = pd.read_csv(\"Classification-Data.csv\")"
      ]
    },
    {
      "cell_type": "code",
      "source": [
        "df"
      ],
      "metadata": {
        "id": "OJiW-D-SatE9",
        "colab": {
          "base_uri": "https://localhost:8080/",
          "height": 423
        },
        "outputId": "38624102-1dda-48ce-f485-2b37d501d347"
      },
      "execution_count": null,
      "outputs": [
        {
          "output_type": "execute_result",
          "data": {
            "text/plain": [
              "     glucose  bloodpressure  diabetes\n",
              "0         40             85         0\n",
              "1         40             92         0\n",
              "2         45             63         1\n",
              "3         45             80         0\n",
              "4         40             73         1\n",
              "..       ...            ...       ...\n",
              "990       45             87         0\n",
              "991       40             83         0\n",
              "992       40             83         0\n",
              "993       40             60         1\n",
              "994       45             82         0\n",
              "\n",
              "[995 rows x 3 columns]"
            ],
            "text/html": [
              "\n",
              "  <div id=\"df-6858e23a-e0c2-4a16-8d08-d91a6af2cb90\">\n",
              "    <div class=\"colab-df-container\">\n",
              "      <div>\n",
              "<style scoped>\n",
              "    .dataframe tbody tr th:only-of-type {\n",
              "        vertical-align: middle;\n",
              "    }\n",
              "\n",
              "    .dataframe tbody tr th {\n",
              "        vertical-align: top;\n",
              "    }\n",
              "\n",
              "    .dataframe thead th {\n",
              "        text-align: right;\n",
              "    }\n",
              "</style>\n",
              "<table border=\"1\" class=\"dataframe\">\n",
              "  <thead>\n",
              "    <tr style=\"text-align: right;\">\n",
              "      <th></th>\n",
              "      <th>glucose</th>\n",
              "      <th>bloodpressure</th>\n",
              "      <th>diabetes</th>\n",
              "    </tr>\n",
              "  </thead>\n",
              "  <tbody>\n",
              "    <tr>\n",
              "      <th>0</th>\n",
              "      <td>40</td>\n",
              "      <td>85</td>\n",
              "      <td>0</td>\n",
              "    </tr>\n",
              "    <tr>\n",
              "      <th>1</th>\n",
              "      <td>40</td>\n",
              "      <td>92</td>\n",
              "      <td>0</td>\n",
              "    </tr>\n",
              "    <tr>\n",
              "      <th>2</th>\n",
              "      <td>45</td>\n",
              "      <td>63</td>\n",
              "      <td>1</td>\n",
              "    </tr>\n",
              "    <tr>\n",
              "      <th>3</th>\n",
              "      <td>45</td>\n",
              "      <td>80</td>\n",
              "      <td>0</td>\n",
              "    </tr>\n",
              "    <tr>\n",
              "      <th>4</th>\n",
              "      <td>40</td>\n",
              "      <td>73</td>\n",
              "      <td>1</td>\n",
              "    </tr>\n",
              "    <tr>\n",
              "      <th>...</th>\n",
              "      <td>...</td>\n",
              "      <td>...</td>\n",
              "      <td>...</td>\n",
              "    </tr>\n",
              "    <tr>\n",
              "      <th>990</th>\n",
              "      <td>45</td>\n",
              "      <td>87</td>\n",
              "      <td>0</td>\n",
              "    </tr>\n",
              "    <tr>\n",
              "      <th>991</th>\n",
              "      <td>40</td>\n",
              "      <td>83</td>\n",
              "      <td>0</td>\n",
              "    </tr>\n",
              "    <tr>\n",
              "      <th>992</th>\n",
              "      <td>40</td>\n",
              "      <td>83</td>\n",
              "      <td>0</td>\n",
              "    </tr>\n",
              "    <tr>\n",
              "      <th>993</th>\n",
              "      <td>40</td>\n",
              "      <td>60</td>\n",
              "      <td>1</td>\n",
              "    </tr>\n",
              "    <tr>\n",
              "      <th>994</th>\n",
              "      <td>45</td>\n",
              "      <td>82</td>\n",
              "      <td>0</td>\n",
              "    </tr>\n",
              "  </tbody>\n",
              "</table>\n",
              "<p>995 rows × 3 columns</p>\n",
              "</div>\n",
              "      <button class=\"colab-df-convert\" onclick=\"convertToInteractive('df-6858e23a-e0c2-4a16-8d08-d91a6af2cb90')\"\n",
              "              title=\"Convert this dataframe to an interactive table.\"\n",
              "              style=\"display:none;\">\n",
              "        \n",
              "  <svg xmlns=\"http://www.w3.org/2000/svg\" height=\"24px\"viewBox=\"0 0 24 24\"\n",
              "       width=\"24px\">\n",
              "    <path d=\"M0 0h24v24H0V0z\" fill=\"none\"/>\n",
              "    <path d=\"M18.56 5.44l.94 2.06.94-2.06 2.06-.94-2.06-.94-.94-2.06-.94 2.06-2.06.94zm-11 1L8.5 8.5l.94-2.06 2.06-.94-2.06-.94L8.5 2.5l-.94 2.06-2.06.94zm10 10l.94 2.06.94-2.06 2.06-.94-2.06-.94-.94-2.06-.94 2.06-2.06.94z\"/><path d=\"M17.41 7.96l-1.37-1.37c-.4-.4-.92-.59-1.43-.59-.52 0-1.04.2-1.43.59L10.3 9.45l-7.72 7.72c-.78.78-.78 2.05 0 2.83L4 21.41c.39.39.9.59 1.41.59.51 0 1.02-.2 1.41-.59l7.78-7.78 2.81-2.81c.8-.78.8-2.07 0-2.86zM5.41 20L4 18.59l7.72-7.72 1.47 1.35L5.41 20z\"/>\n",
              "  </svg>\n",
              "      </button>\n",
              "      \n",
              "  <style>\n",
              "    .colab-df-container {\n",
              "      display:flex;\n",
              "      flex-wrap:wrap;\n",
              "      gap: 12px;\n",
              "    }\n",
              "\n",
              "    .colab-df-convert {\n",
              "      background-color: #E8F0FE;\n",
              "      border: none;\n",
              "      border-radius: 50%;\n",
              "      cursor: pointer;\n",
              "      display: none;\n",
              "      fill: #1967D2;\n",
              "      height: 32px;\n",
              "      padding: 0 0 0 0;\n",
              "      width: 32px;\n",
              "    }\n",
              "\n",
              "    .colab-df-convert:hover {\n",
              "      background-color: #E2EBFA;\n",
              "      box-shadow: 0px 1px 2px rgba(60, 64, 67, 0.3), 0px 1px 3px 1px rgba(60, 64, 67, 0.15);\n",
              "      fill: #174EA6;\n",
              "    }\n",
              "\n",
              "    [theme=dark] .colab-df-convert {\n",
              "      background-color: #3B4455;\n",
              "      fill: #D2E3FC;\n",
              "    }\n",
              "\n",
              "    [theme=dark] .colab-df-convert:hover {\n",
              "      background-color: #434B5C;\n",
              "      box-shadow: 0px 1px 3px 1px rgba(0, 0, 0, 0.15);\n",
              "      filter: drop-shadow(0px 1px 2px rgba(0, 0, 0, 0.3));\n",
              "      fill: #FFFFFF;\n",
              "    }\n",
              "  </style>\n",
              "\n",
              "      <script>\n",
              "        const buttonEl =\n",
              "          document.querySelector('#df-6858e23a-e0c2-4a16-8d08-d91a6af2cb90 button.colab-df-convert');\n",
              "        buttonEl.style.display =\n",
              "          google.colab.kernel.accessAllowed ? 'block' : 'none';\n",
              "\n",
              "        async function convertToInteractive(key) {\n",
              "          const element = document.querySelector('#df-6858e23a-e0c2-4a16-8d08-d91a6af2cb90');\n",
              "          const dataTable =\n",
              "            await google.colab.kernel.invokeFunction('convertToInteractive',\n",
              "                                                     [key], {});\n",
              "          if (!dataTable) return;\n",
              "\n",
              "          const docLinkHtml = 'Like what you see? Visit the ' +\n",
              "            '<a target=\"_blank\" href=https://colab.research.google.com/notebooks/data_table.ipynb>data table notebook</a>'\n",
              "            + ' to learn more about interactive tables.';\n",
              "          element.innerHTML = '';\n",
              "          dataTable['output_type'] = 'display_data';\n",
              "          await google.colab.output.renderOutput(dataTable, element);\n",
              "          const docLink = document.createElement('div');\n",
              "          docLink.innerHTML = docLinkHtml;\n",
              "          element.appendChild(docLink);\n",
              "        }\n",
              "      </script>\n",
              "    </div>\n",
              "  </div>\n",
              "  "
            ]
          },
          "metadata": {},
          "execution_count": 3
        }
      ]
    },
    {
      "cell_type": "code",
      "source": [
        "df.info()"
      ],
      "metadata": {
        "colab": {
          "base_uri": "https://localhost:8080/"
        },
        "id": "DYBGGvdMbxg4",
        "outputId": "e76aadec-ec3f-4f17-de9b-bfb5d007eabe"
      },
      "execution_count": null,
      "outputs": [
        {
          "output_type": "stream",
          "name": "stdout",
          "text": [
            "<class 'pandas.core.frame.DataFrame'>\n",
            "RangeIndex: 995 entries, 0 to 994\n",
            "Data columns (total 3 columns):\n",
            " #   Column         Non-Null Count  Dtype\n",
            "---  ------         --------------  -----\n",
            " 0   glucose        995 non-null    int64\n",
            " 1   bloodpressure  995 non-null    int64\n",
            " 2   diabetes       995 non-null    int64\n",
            "dtypes: int64(3)\n",
            "memory usage: 23.4 KB\n"
          ]
        }
      ]
    },
    {
      "cell_type": "code",
      "source": [
        "class1 = df[df['diabetes'] == 0]\n",
        "class2 = df[df['diabetes'] == 1]"
      ],
      "metadata": {
        "id": "aUQUhRbViwM7"
      },
      "execution_count": null,
      "outputs": []
    },
    {
      "cell_type": "code",
      "source": [
        "# count= 0\n",
        "# for i in range(len(df['diabetes'])):\n",
        "#   if(df['diabetes'][i] == 0):\n",
        "#     count = count + 1\n",
        "# count\n",
        "# n = len(df['diabetes'])\n",
        "# n\n",
        "# p_nodiabetes = count/n\n",
        "# p_yesdiabetes = (n-count)/n\n",
        "# print(p_nodiabetes)\n",
        "# print(p_yesdiabetes)\n",
        "p_class1 = len(class1['diabetes'])/len(df['diabetes'])\n",
        "p_class2 = len(class2['diabetes'])/len(df['diabetes'])\n",
        "print(p_class1)\n",
        "print(p_class2)"
      ],
      "metadata": {
        "colab": {
          "base_uri": "https://localhost:8080/"
        },
        "id": "8e7z1qijcDvK",
        "outputId": "37c495be-6b0d-47c1-c7ef-f9adb205ab94"
      },
      "execution_count": null,
      "outputs": [
        {
          "output_type": "stream",
          "name": "stdout",
          "text": [
            "0.4994974874371859\n",
            "0.5005025125628141\n"
          ]
        }
      ]
    },
    {
      "cell_type": "code",
      "source": [
        "mean11 = class1['glucose'].mean()\n",
        "print(mean11)\n",
        "mean12 = class1['bloodpressure'].mean()\n",
        "print(mean12)\n",
        "mean1 = [mean11,mean12]\n",
        "mean1"
      ],
      "metadata": {
        "colab": {
          "base_uri": "https://localhost:8080/"
        },
        "id": "vH6QYhm7cir5",
        "outputId": "7cb19c3d-ca8c-42e8-d196-0eb05af6d22d"
      },
      "execution_count": null,
      "outputs": [
        {
          "output_type": "stream",
          "name": "stdout",
          "text": [
            "44.094567404426556\n",
            "86.738430583501\n"
          ]
        },
        {
          "output_type": "execute_result",
          "data": {
            "text/plain": [
              "[44.094567404426556, 86.738430583501]"
            ]
          },
          "metadata": {},
          "execution_count": 7
        }
      ]
    },
    {
      "cell_type": "code",
      "source": [
        "covariance1 = np.matrix(class1[['glucose','bloodpressure']].cov())"
      ],
      "metadata": {
        "id": "ZVW_rTmQd-_O"
      },
      "execution_count": null,
      "outputs": []
    },
    {
      "cell_type": "code",
      "source": [
        "#d = 2\n",
        "def g1_x(x):\n",
        "  covariance1_det = np.linalg.det(covariance1)\n",
        "  x_mean1_transpose = (np.matrix(np.matrix(x) - np.matrix(mean1)))\n",
        "  covariance1_inverse = np.linalg.inv(covariance1)\n",
        "  x_mean1 = np.matrix(np.matrix(x) - np.matrix(mean1)).transpose()\n",
        "  g1 = -0.5*math.log(2*np.pi) -0.5*math.log(covariance1_det) - 0.5 *(x_mean1_transpose * covariance1_inverse * x_mean1) + math.log(p_class1)\n",
        "  return g1"
      ],
      "metadata": {
        "id": "j3r82UhIe0Os"
      },
      "execution_count": null,
      "outputs": []
    },
    {
      "cell_type": "code",
      "source": [
        "mean21 = class2['glucose'].mean()\n",
        "print(mean21)\n",
        "mean22 = class2['bloodpressure'].mean()\n",
        "print(mean22)\n",
        "mean2 = [mean21, mean22]\n",
        "mean2"
      ],
      "metadata": {
        "colab": {
          "base_uri": "https://localhost:8080/"
        },
        "id": "CwUW3cpWh3wf",
        "outputId": "bca361e1-f49b-431b-b5d7-5de6b4c098b7"
      },
      "execution_count": null,
      "outputs": [
        {
          "output_type": "stream",
          "name": "stdout",
          "text": [
            "44.51807228915663\n",
            "71.64658634538152\n"
          ]
        },
        {
          "output_type": "execute_result",
          "data": {
            "text/plain": [
              "[44.51807228915663, 71.64658634538152]"
            ]
          },
          "metadata": {},
          "execution_count": 10
        }
      ]
    },
    {
      "cell_type": "code",
      "source": [
        "covariance2 = np.matrix(class2[['glucose','bloodpressure']].cov())"
      ],
      "metadata": {
        "id": "E0bo-hEJh5qB"
      },
      "execution_count": null,
      "outputs": []
    },
    {
      "cell_type": "code",
      "source": [
        "def g2_x(x):\n",
        "  covariance2_det = np.linalg.det(covariance2)\n",
        "  x_mean2_transpose = (np.matrix(np.matrix(x) - np.matrix(mean2)))\n",
        "  covariance2_inverse = np.linalg.inv(covariance2)\n",
        "  x_mean2 = np.matrix(np.matrix(x) - np.matrix(mean2)).transpose()\n",
        "  g2 = -0.5*math.log(2*np.pi) -0.5*math.log(covariance2_det) - 0.5 *(x_mean2_transpose * covariance2_inverse * x_mean2) + math.log(p_class2)\n",
        "  return g2"
      ],
      "metadata": {
        "id": "SQGQ11F2kuYx"
      },
      "execution_count": null,
      "outputs": []
    },
    {
      "cell_type": "code",
      "source": [
        "x = [40,73]\n",
        "g1 = g1_x(x)\n",
        "g2 = g2_x(x)\n",
        "print(g1,g2)\n",
        "if(g1 > g2):\n",
        "  print(\"class1\")\n",
        "if(g1 < g2):\n",
        "  print(\"class2\")\n",
        "if(g1 == g2):\n",
        "  print(\"Decision Boundary\")"
      ],
      "metadata": {
        "colab": {
          "base_uri": "https://localhost:8080/"
        },
        "id": "ZK6IP0FklUX9",
        "outputId": "b5d49768-8d83-442f-90f8-3e69bf587c16"
      },
      "execution_count": null,
      "outputs": [
        {
          "output_type": "stream",
          "name": "stdout",
          "text": [
            "[[-9.822744]] [[-5.7065326]]\n",
            "class2\n"
          ]
        }
      ]
    },
    {
      "cell_type": "code",
      "source": [],
      "metadata": {
        "id": "YzcnqrAWlsZc"
      },
      "execution_count": null,
      "outputs": []
    }
  ]
}