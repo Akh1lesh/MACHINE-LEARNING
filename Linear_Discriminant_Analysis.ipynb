{
  "cells": [
    {
      "cell_type": "markdown",
      "source": [
        "**Question 1 :\n",
        "Load the iris data. For the 4 features and 3 classes, create histograms and\n",
        "visualize which histogram plots are more informative about the discrimi-\n",
        "native nature of the feature. Select features that have better separability\n",
        "using histograms.**"
      ],
      "metadata": {
        "id": "Wd40l9PjmHt-"
      }
    },
    {
      "cell_type": "code",
      "execution_count": 148,
      "metadata": {
        "id": "YRnnRaiMQWLw"
      },
      "outputs": [],
      "source": [
        "import numpy as np\n",
        "import pandas as pd\n",
        "import matplotlib.pyplot as plt\n",
        "from matplotlib import pyplot\n",
        "%matplotlib inline"
      ]
    },
    {
      "cell_type": "code",
      "execution_count": 149,
      "metadata": {
        "id": "yM0Xw8ZIQWLz"
      },
      "outputs": [],
      "source": [
        "df = pd.read_csv('Iris.csv')"
      ]
    },
    {
      "cell_type": "code",
      "execution_count": 150,
      "metadata": {
        "colab": {
          "base_uri": "https://localhost:8080/",
          "height": 423
        },
        "id": "0wKxmwjtQWL0",
        "outputId": "da266ec1-c1a4-4c26-d517-4d473fe5d738"
      },
      "outputs": [
        {
          "output_type": "execute_result",
          "data": {
            "text/plain": [
              "      Id  SepalLengthCm  SepalWidthCm  PetalLengthCm  PetalWidthCm  \\\n",
              "0      1            5.1           3.5            1.4           0.2   \n",
              "1      2            4.9           3.0            1.4           0.2   \n",
              "2      3            4.7           3.2            1.3           0.2   \n",
              "3      4            4.6           3.1            1.5           0.2   \n",
              "4      5            5.0           3.6            1.4           0.2   \n",
              "..   ...            ...           ...            ...           ...   \n",
              "145  146            6.7           3.0            5.2           2.3   \n",
              "146  147            6.3           2.5            5.0           1.9   \n",
              "147  148            6.5           3.0            5.2           2.0   \n",
              "148  149            6.2           3.4            5.4           2.3   \n",
              "149  150            5.9           3.0            5.1           1.8   \n",
              "\n",
              "            Species  \n",
              "0       Iris-setosa  \n",
              "1       Iris-setosa  \n",
              "2       Iris-setosa  \n",
              "3       Iris-setosa  \n",
              "4       Iris-setosa  \n",
              "..              ...  \n",
              "145  Iris-virginica  \n",
              "146  Iris-virginica  \n",
              "147  Iris-virginica  \n",
              "148  Iris-virginica  \n",
              "149  Iris-virginica  \n",
              "\n",
              "[150 rows x 6 columns]"
            ],
            "text/html": [
              "\n",
              "  <div id=\"df-4b055f9e-81b5-485c-aa77-e9f34ba7b028\">\n",
              "    <div class=\"colab-df-container\">\n",
              "      <div>\n",
              "<style scoped>\n",
              "    .dataframe tbody tr th:only-of-type {\n",
              "        vertical-align: middle;\n",
              "    }\n",
              "\n",
              "    .dataframe tbody tr th {\n",
              "        vertical-align: top;\n",
              "    }\n",
              "\n",
              "    .dataframe thead th {\n",
              "        text-align: right;\n",
              "    }\n",
              "</style>\n",
              "<table border=\"1\" class=\"dataframe\">\n",
              "  <thead>\n",
              "    <tr style=\"text-align: right;\">\n",
              "      <th></th>\n",
              "      <th>Id</th>\n",
              "      <th>SepalLengthCm</th>\n",
              "      <th>SepalWidthCm</th>\n",
              "      <th>PetalLengthCm</th>\n",
              "      <th>PetalWidthCm</th>\n",
              "      <th>Species</th>\n",
              "    </tr>\n",
              "  </thead>\n",
              "  <tbody>\n",
              "    <tr>\n",
              "      <th>0</th>\n",
              "      <td>1</td>\n",
              "      <td>5.1</td>\n",
              "      <td>3.5</td>\n",
              "      <td>1.4</td>\n",
              "      <td>0.2</td>\n",
              "      <td>Iris-setosa</td>\n",
              "    </tr>\n",
              "    <tr>\n",
              "      <th>1</th>\n",
              "      <td>2</td>\n",
              "      <td>4.9</td>\n",
              "      <td>3.0</td>\n",
              "      <td>1.4</td>\n",
              "      <td>0.2</td>\n",
              "      <td>Iris-setosa</td>\n",
              "    </tr>\n",
              "    <tr>\n",
              "      <th>2</th>\n",
              "      <td>3</td>\n",
              "      <td>4.7</td>\n",
              "      <td>3.2</td>\n",
              "      <td>1.3</td>\n",
              "      <td>0.2</td>\n",
              "      <td>Iris-setosa</td>\n",
              "    </tr>\n",
              "    <tr>\n",
              "      <th>3</th>\n",
              "      <td>4</td>\n",
              "      <td>4.6</td>\n",
              "      <td>3.1</td>\n",
              "      <td>1.5</td>\n",
              "      <td>0.2</td>\n",
              "      <td>Iris-setosa</td>\n",
              "    </tr>\n",
              "    <tr>\n",
              "      <th>4</th>\n",
              "      <td>5</td>\n",
              "      <td>5.0</td>\n",
              "      <td>3.6</td>\n",
              "      <td>1.4</td>\n",
              "      <td>0.2</td>\n",
              "      <td>Iris-setosa</td>\n",
              "    </tr>\n",
              "    <tr>\n",
              "      <th>...</th>\n",
              "      <td>...</td>\n",
              "      <td>...</td>\n",
              "      <td>...</td>\n",
              "      <td>...</td>\n",
              "      <td>...</td>\n",
              "      <td>...</td>\n",
              "    </tr>\n",
              "    <tr>\n",
              "      <th>145</th>\n",
              "      <td>146</td>\n",
              "      <td>6.7</td>\n",
              "      <td>3.0</td>\n",
              "      <td>5.2</td>\n",
              "      <td>2.3</td>\n",
              "      <td>Iris-virginica</td>\n",
              "    </tr>\n",
              "    <tr>\n",
              "      <th>146</th>\n",
              "      <td>147</td>\n",
              "      <td>6.3</td>\n",
              "      <td>2.5</td>\n",
              "      <td>5.0</td>\n",
              "      <td>1.9</td>\n",
              "      <td>Iris-virginica</td>\n",
              "    </tr>\n",
              "    <tr>\n",
              "      <th>147</th>\n",
              "      <td>148</td>\n",
              "      <td>6.5</td>\n",
              "      <td>3.0</td>\n",
              "      <td>5.2</td>\n",
              "      <td>2.0</td>\n",
              "      <td>Iris-virginica</td>\n",
              "    </tr>\n",
              "    <tr>\n",
              "      <th>148</th>\n",
              "      <td>149</td>\n",
              "      <td>6.2</td>\n",
              "      <td>3.4</td>\n",
              "      <td>5.4</td>\n",
              "      <td>2.3</td>\n",
              "      <td>Iris-virginica</td>\n",
              "    </tr>\n",
              "    <tr>\n",
              "      <th>149</th>\n",
              "      <td>150</td>\n",
              "      <td>5.9</td>\n",
              "      <td>3.0</td>\n",
              "      <td>5.1</td>\n",
              "      <td>1.8</td>\n",
              "      <td>Iris-virginica</td>\n",
              "    </tr>\n",
              "  </tbody>\n",
              "</table>\n",
              "<p>150 rows × 6 columns</p>\n",
              "</div>\n",
              "      <button class=\"colab-df-convert\" onclick=\"convertToInteractive('df-4b055f9e-81b5-485c-aa77-e9f34ba7b028')\"\n",
              "              title=\"Convert this dataframe to an interactive table.\"\n",
              "              style=\"display:none;\">\n",
              "        \n",
              "  <svg xmlns=\"http://www.w3.org/2000/svg\" height=\"24px\"viewBox=\"0 0 24 24\"\n",
              "       width=\"24px\">\n",
              "    <path d=\"M0 0h24v24H0V0z\" fill=\"none\"/>\n",
              "    <path d=\"M18.56 5.44l.94 2.06.94-2.06 2.06-.94-2.06-.94-.94-2.06-.94 2.06-2.06.94zm-11 1L8.5 8.5l.94-2.06 2.06-.94-2.06-.94L8.5 2.5l-.94 2.06-2.06.94zm10 10l.94 2.06.94-2.06 2.06-.94-2.06-.94-.94-2.06-.94 2.06-2.06.94z\"/><path d=\"M17.41 7.96l-1.37-1.37c-.4-.4-.92-.59-1.43-.59-.52 0-1.04.2-1.43.59L10.3 9.45l-7.72 7.72c-.78.78-.78 2.05 0 2.83L4 21.41c.39.39.9.59 1.41.59.51 0 1.02-.2 1.41-.59l7.78-7.78 2.81-2.81c.8-.78.8-2.07 0-2.86zM5.41 20L4 18.59l7.72-7.72 1.47 1.35L5.41 20z\"/>\n",
              "  </svg>\n",
              "      </button>\n",
              "      \n",
              "  <style>\n",
              "    .colab-df-container {\n",
              "      display:flex;\n",
              "      flex-wrap:wrap;\n",
              "      gap: 12px;\n",
              "    }\n",
              "\n",
              "    .colab-df-convert {\n",
              "      background-color: #E8F0FE;\n",
              "      border: none;\n",
              "      border-radius: 50%;\n",
              "      cursor: pointer;\n",
              "      display: none;\n",
              "      fill: #1967D2;\n",
              "      height: 32px;\n",
              "      padding: 0 0 0 0;\n",
              "      width: 32px;\n",
              "    }\n",
              "\n",
              "    .colab-df-convert:hover {\n",
              "      background-color: #E2EBFA;\n",
              "      box-shadow: 0px 1px 2px rgba(60, 64, 67, 0.3), 0px 1px 3px 1px rgba(60, 64, 67, 0.15);\n",
              "      fill: #174EA6;\n",
              "    }\n",
              "\n",
              "    [theme=dark] .colab-df-convert {\n",
              "      background-color: #3B4455;\n",
              "      fill: #D2E3FC;\n",
              "    }\n",
              "\n",
              "    [theme=dark] .colab-df-convert:hover {\n",
              "      background-color: #434B5C;\n",
              "      box-shadow: 0px 1px 3px 1px rgba(0, 0, 0, 0.15);\n",
              "      filter: drop-shadow(0px 1px 2px rgba(0, 0, 0, 0.3));\n",
              "      fill: #FFFFFF;\n",
              "    }\n",
              "  </style>\n",
              "\n",
              "      <script>\n",
              "        const buttonEl =\n",
              "          document.querySelector('#df-4b055f9e-81b5-485c-aa77-e9f34ba7b028 button.colab-df-convert');\n",
              "        buttonEl.style.display =\n",
              "          google.colab.kernel.accessAllowed ? 'block' : 'none';\n",
              "\n",
              "        async function convertToInteractive(key) {\n",
              "          const element = document.querySelector('#df-4b055f9e-81b5-485c-aa77-e9f34ba7b028');\n",
              "          const dataTable =\n",
              "            await google.colab.kernel.invokeFunction('convertToInteractive',\n",
              "                                                     [key], {});\n",
              "          if (!dataTable) return;\n",
              "\n",
              "          const docLinkHtml = 'Like what you see? Visit the ' +\n",
              "            '<a target=\"_blank\" href=https://colab.research.google.com/notebooks/data_table.ipynb>data table notebook</a>'\n",
              "            + ' to learn more about interactive tables.';\n",
              "          element.innerHTML = '';\n",
              "          dataTable['output_type'] = 'display_data';\n",
              "          await google.colab.output.renderOutput(dataTable, element);\n",
              "          const docLink = document.createElement('div');\n",
              "          docLink.innerHTML = docLinkHtml;\n",
              "          element.appendChild(docLink);\n",
              "        }\n",
              "      </script>\n",
              "    </div>\n",
              "  </div>\n",
              "  "
            ]
          },
          "metadata": {},
          "execution_count": 150
        }
      ],
      "source": [
        "df"
      ]
    },
    {
      "cell_type": "code",
      "execution_count": 151,
      "metadata": {
        "colab": {
          "base_uri": "https://localhost:8080/",
          "height": 282
        },
        "id": "lL5tuvDIQWL2",
        "outputId": "9c531752-b9a5-4fc2-b759-20bc8f69d3ea"
      },
      "outputs": [
        {
          "output_type": "execute_result",
          "data": {
            "text/plain": [
              "<matplotlib.legend.Legend at 0x7fd0e1b03fa0>"
            ]
          },
          "metadata": {},
          "execution_count": 151
        },
        {
          "output_type": "display_data",
          "data": {
            "text/plain": [
              "<Figure size 432x288 with 1 Axes>"
            ],
            "image/png": "[encoded data removed]"
          },
          "metadata": {
            "needs_background": "light"
          }
        }
      ],
      "source": [
        "class1_sepallength = df['SepalLengthCm'][0:50]\n",
        "class2_sepallength = df['SepalLengthCm'][50:100]\n",
        "class3_sepallength = df['SepalLengthCm'][100:150]\n",
        "pyplot.hist(class1_sepallength,bins=30,label = 'Class1',color='skyblue')\n",
        "pyplot.hist(class2_sepallength,bins=30,label = 'Class2',color='pink')\n",
        "pyplot.hist(class3_sepallength,bins=30,label = 'Class3',color = 'lightyellow')\n",
        "plt.legend(loc = 'upper right',)"
      ]
    },
    {
      "cell_type": "code",
      "execution_count": 152,
      "metadata": {
        "colab": {
          "base_uri": "https://localhost:8080/",
          "height": 282
        },
        "id": "QfOfCsaQQWL3",
        "outputId": "23e13cb7-5bb9-40ad-eb69-ca90a96f3874"
      },
      "outputs": [
        {
          "output_type": "execute_result",
          "data": {
            "text/plain": [
              "<matplotlib.legend.Legend at 0x7fd0e1922610>"
            ]
          },
          "metadata": {},
          "execution_count": 152
        },
        {
          "output_type": "display_data",
          "data": {
            "text/plain": [
              "<Figure size 432x288 with 1 Axes>"
            ],
            "image/png": "[encoded data removed]"
          },
          "metadata": {
            "needs_background": "light"
          }
        }
      ],
      "source": [
        "class1_sepalwidth = df['SepalWidthCm'][0:50]\n",
        "class2_sepalwidth = df['SepalWidthCm'][50:100]\n",
        "class3_sepalwidth = df['SepalWidthCm'][100:150]\n",
        "pyplot.hist(class1_sepalwidth,bins=50,label = 'Class1',color='skyblue')\n",
        "pyplot.hist(class2_sepalwidth,bins=50,label = 'Class2',color='pink')\n",
        "pyplot.hist(class3_sepalwidth,bins=50,label = 'Class3',color='lightyellow')\n",
        "plt.legend(loc='upper right')"
      ]
    },
    {
      "cell_type": "code",
      "execution_count": 153,
      "metadata": {
        "colab": {
          "base_uri": "https://localhost:8080/",
          "height": 282
        },
        "id": "TKAeBDaAQWL4",
        "outputId": "36f52b2a-3473-4d72-c8d6-31b0538d7270"
      },
      "outputs": [
        {
          "output_type": "execute_result",
          "data": {
            "text/plain": [
              "<matplotlib.legend.Legend at 0x7fd0e180c7f0>"
            ]
          },
          "metadata": {},
          "execution_count": 153
        },
        {
          "output_type": "display_data",
          "data": {
            "text/plain": [
              "<Figure size 432x288 with 1 Axes>"
            ],
            "image/png": "[encoded data removed]"
          },
          "metadata": {
            "needs_background": "light"
          }
        }
      ],
      "source": [
        "class1_petallength = df['PetalLengthCm'][0:50]\n",
        "class2_petallength = df['PetalLengthCm'][50:100]\n",
        "class3_petallength = df['PetalLengthCm'][100:150]\n",
        "pyplot.hist(class1_petallength,bins=30,label = 'Class1',color='skyblue')\n",
        "pyplot.hist(class2_petallength,bins=30,label = 'Class2',color='pink')\n",
        "pyplot.hist(class3_petallength,bins=30,label = 'Class3',color='lightyellow')\n",
        "plt.legend(loc='upper right')"
      ]
    },
    {
      "cell_type": "code",
      "execution_count": 154,
      "metadata": {
        "colab": {
          "base_uri": "https://localhost:8080/",
          "height": 282
        },
        "id": "5UCqiYO8QWL5",
        "outputId": "a82e1b75-6da9-4096-9a46-23bd635c7baf"
      },
      "outputs": [
        {
          "output_type": "execute_result",
          "data": {
            "text/plain": [
              "<matplotlib.legend.Legend at 0x7fd0e1a55a30>"
            ]
          },
          "metadata": {},
          "execution_count": 154
        },
        {
          "output_type": "display_data",
          "data": {
            "text/plain": [
              "<Figure size 432x288 with 1 Axes>"
            ],
            "image/png": "[encoded data removed]"
          },
          "metadata": {
            "needs_background": "light"
          }
        }
      ],
      "source": [
        "class1_petalwidth = df['PetalWidthCm'][0:50]\n",
        "class2_petalwidth = df['PetalWidthCm'][50:100]\n",
        "class3_petalwidth = df['PetalWidthCm'][100:150]\n",
        "pyplot.hist(class1_petalwidth,bins=30,label = 'Class1',color='skyblue')\n",
        "pyplot.hist(class2_petalwidth,bins=30,label = 'Class2',color='pink')\n",
        "pyplot.hist(class3_petalwidth,bins=30,label = 'Class3',color='lightyellow')\n",
        "plt.legend(loc='upper right')"
      ]
    },
    {
      "cell_type": "markdown",
      "metadata": {
        "id": "gryWfmcHQWL7"
      },
      "source": [
        "**Question 2 : compute the mean vectors μ i = [μ f 1 μ f 2 μ f 3 μ f 4 ],\n",
        "where i represents the class id. Also compute the inter-class and intra-\n",
        "class scatter matrices, S B and S W . Solve the eigenvalue problem for the\n",
        "matrix S W −1 S B .**"
      ]
    },
    {
      "cell_type": "code",
      "execution_count": 155,
      "metadata": {
        "id": "EwuWvxQrQWL8"
      },
      "outputs": [],
      "source": [
        "def mean(X):\n",
        "    sum1 = sum(X)\n",
        "    mean = sum1/len(X)\n",
        "    return mean"
      ]
    },
    {
      "cell_type": "code",
      "execution_count": 156,
      "metadata": {
        "id": "GXecCvB4QWL9"
      },
      "outputs": [],
      "source": [
        "class1 = df[df['Species']=='Iris-setosa']\n",
        "class2 = df[df['Species']=='Iris-versicolor']\n",
        "class3 = df[df['Species']=='Iris-virginica']"
      ]
    },
    {
      "cell_type": "code",
      "source": [
        "plt.scatter(class1['SepalLengthCm'],class1['SepalWidthCm'],class1['PetalLengthCm'],class1['PetalWidthCm'])\n",
        "plt.scatter(class2['SepalLengthCm'],class2['SepalWidthCm'],class2['PetalLengthCm'],class2['PetalWidthCm'])\n",
        "plt.scatter(class3['SepalLengthCm'],class3['SepalWidthCm'],class3['PetalLengthCm'],class3['PetalWidthCm'])\n"
      ],
      "metadata": {
        "colab": {
          "base_uri": "https://localhost:8080/",
          "height": 285
        },
        "id": "fqcG6L1hlCvg",
        "outputId": "e6db60f1-1773-4201-8384-9d4a0b746bdd"
      },
      "execution_count": 157,
      "outputs": [
        {
          "output_type": "execute_result",
          "data": {
            "text/plain": [
              "<matplotlib.collections.PathCollection at 0x7fd0e1594ac0>"
            ]
          },
          "metadata": {},
          "execution_count": 157
        },
        {
          "output_type": "display_data",
          "data": {
            "text/plain": [
              "<Figure size 432x288 with 1 Axes>"
            ],
            "image/png": "[encoded data removed]"
          },
          "metadata": {
            "needs_background": "light"
          }
        }
      ]
    },
    {
      "cell_type": "code",
      "execution_count": 158,
      "metadata": {
        "id": "9L1HRPGzQWL-"
      },
      "outputs": [],
      "source": [
        "mean11 = mean(class1['SepalLengthCm'])\n",
        "mean12 = mean(class1['SepalWidthCm'])\n",
        "mean13 = mean(class1['PetalLengthCm'])\n",
        "mean14 = mean(class1['PetalWidthCm'])\n",
        "# mean11"
      ]
    },
    {
      "cell_type": "code",
      "execution_count": 159,
      "metadata": {
        "id": "LF6MZ79BQWL_"
      },
      "outputs": [],
      "source": [
        "mean1 = [mean11,mean12,mean13,mean14]"
      ]
    },
    {
      "cell_type": "code",
      "execution_count": 160,
      "metadata": {
        "colab": {
          "base_uri": "https://localhost:8080/"
        },
        "id": "IqrX_LLNQWMA",
        "outputId": "452c7eb1-893f-4223-ae96-1411f670eed2"
      },
      "outputs": [
        {
          "output_type": "execute_result",
          "data": {
            "text/plain": [
              "[5.005999999999999, 3.4180000000000006, 1.464, 0.2439999999999999]"
            ]
          },
          "metadata": {},
          "execution_count": 160
        }
      ],
      "source": [
        "mean1"
      ]
    },
    {
      "cell_type": "code",
      "execution_count": 161,
      "metadata": {
        "id": "EGd2ejfSQWMA"
      },
      "outputs": [],
      "source": [
        "mean21 = mean(class2['SepalLengthCm'])\n",
        "mean22 = mean(class2['SepalWidthCm'])\n",
        "mean23 = mean(class2['PetalLengthCm'])\n",
        "mean24 = mean(class2['PetalWidthCm'])"
      ]
    },
    {
      "cell_type": "code",
      "execution_count": 162,
      "metadata": {
        "id": "Fg7Zu71_QWMB"
      },
      "outputs": [],
      "source": [
        "mean2 = [mean21,mean22,mean23,mean24]"
      ]
    },
    {
      "cell_type": "code",
      "execution_count": 163,
      "metadata": {
        "colab": {
          "base_uri": "https://localhost:8080/"
        },
        "id": "EJqnLzVlQWMB",
        "outputId": "07c460a1-599b-4305-cbcb-8d9920c8a309"
      },
      "outputs": [
        {
          "output_type": "execute_result",
          "data": {
            "text/plain": [
              "[5.936, 2.7700000000000005, 4.26, 1.3259999999999998]"
            ]
          },
          "metadata": {},
          "execution_count": 163
        }
      ],
      "source": [
        "mean2"
      ]
    },
    {
      "cell_type": "code",
      "execution_count": 164,
      "metadata": {
        "id": "LNim0kLpQWMB"
      },
      "outputs": [],
      "source": [
        "mean31 = mean(class3['SepalLengthCm'])\n",
        "mean32 = mean(class3['SepalWidthCm'])\n",
        "mean33 = mean(class3['PetalLengthCm'])\n",
        "mean34 = mean(class3['PetalWidthCm'])"
      ]
    },
    {
      "cell_type": "code",
      "execution_count": 165,
      "metadata": {
        "id": "mKMCsCghQWMC"
      },
      "outputs": [],
      "source": [
        "mean3 = [mean31,mean32,mean33,mean34]"
      ]
    },
    {
      "cell_type": "code",
      "execution_count": 166,
      "metadata": {
        "colab": {
          "base_uri": "https://localhost:8080/"
        },
        "id": "rry7vqPRQWMC",
        "outputId": "d11a5c06-86b0-46ed-c4b5-70546f0de033"
      },
      "outputs": [
        {
          "output_type": "execute_result",
          "data": {
            "text/plain": [
              "[6.587999999999998, 2.9739999999999998, 5.552, 2.026]"
            ]
          },
          "metadata": {},
          "execution_count": 166
        }
      ],
      "source": [
        "mean3"
      ]
    },
    {
      "cell_type": "code",
      "execution_count": 167,
      "metadata": {
        "id": "ot48AzW0QWME"
      },
      "outputs": [],
      "source": [
        "mean = [mean1,mean2,mean3]"
      ]
    },
    {
      "cell_type": "code",
      "execution_count": 168,
      "metadata": {
        "colab": {
          "base_uri": "https://localhost:8080/"
        },
        "id": "V9J8h8rzQWME",
        "outputId": "4fe06f7d-2d5c-444f-91a8-368f44b87fbe"
      },
      "outputs": [
        {
          "output_type": "execute_result",
          "data": {
            "text/plain": [
              "[[5.005999999999999, 3.4180000000000006, 1.464, 0.2439999999999999],\n",
              " [5.936, 2.7700000000000005, 4.26, 1.3259999999999998],\n",
              " [6.587999999999998, 2.9739999999999998, 5.552, 2.026]]"
            ]
          },
          "metadata": {},
          "execution_count": 168
        }
      ],
      "source": [
        "mean"
      ]
    },
    {
      "cell_type": "code",
      "execution_count": 169,
      "metadata": {
        "id": "vgr2Cfi4QWME"
      },
      "outputs": [],
      "source": [
        "fmean1=[]\n",
        "fmean2=[]\n",
        "fmean3=[]\n",
        "for i in range(4):\n",
        "    x = 50*mean[0][i]\n",
        "    fmean1.append(x)\n",
        "for j in range(4):\n",
        "    y = 50*mean[1][j]\n",
        "    fmean2.append(y)\n",
        "for k in range(4):\n",
        "    z = 50*mean[2][k]\n",
        "    fmean3.append(z)\n",
        "fmean = [fmean1,fmean2,fmean3]"
      ]
    },
    {
      "cell_type": "code",
      "execution_count": 170,
      "metadata": {
        "colab": {
          "base_uri": "https://localhost:8080/"
        },
        "id": "x_CVg4smQWMF",
        "outputId": "6ead1d49-4928-4349-82c8-70b7e0aced6d"
      },
      "outputs": [
        {
          "output_type": "execute_result",
          "data": {
            "text/plain": [
              "[[250.29999999999995, 170.90000000000003, 73.2, 12.199999999999996],\n",
              " [296.8, 138.50000000000003, 213.0, 66.3],\n",
              " [329.3999999999999, 148.7, 277.59999999999997, 101.29999999999998]]"
            ]
          },
          "metadata": {},
          "execution_count": 170
        }
      ],
      "source": [
        "fmean"
      ]
    },
    {
      "cell_type": "code",
      "execution_count": 171,
      "metadata": {
        "id": "ZjwJETEnQWMG"
      },
      "outputs": [],
      "source": [
        "final_mean=[]\n",
        "sum2 = 0\n",
        "for i in range(3):\n",
        "    sum2 = sum2 + fmean[i][0]\n",
        "final_mean.append(sum2)\n",
        "sum2 = 0\n",
        "for i in range(3):\n",
        "    sum2 = sum2 + fmean[i][1]\n",
        "final_mean.append(sum2)\n",
        "sum2 = 0\n",
        "for i in range(3):\n",
        "    sum2 = sum2 + fmean[i][2]\n",
        "final_mean.append(sum2)\n",
        "sum2 = 0\n",
        "for i in range(3):\n",
        "    sum2 = sum2 + fmean[i][3]\n",
        "final_mean.append(sum2)\n"
      ]
    },
    {
      "cell_type": "code",
      "execution_count": 172,
      "metadata": {
        "id": "O2WxDYxtQWMG"
      },
      "outputs": [],
      "source": [
        "final_mean1 = []\n",
        "for i in range(4):\n",
        "    p = final_mean[i]/150\n",
        "    final_mean1.append(p)"
      ]
    },
    {
      "cell_type": "code",
      "execution_count": 173,
      "metadata": {
        "colab": {
          "base_uri": "https://localhost:8080/"
        },
        "id": "-5yImgzNQWMH",
        "outputId": "115f2f36-21b0-42f7-808a-64053a37c85d"
      },
      "outputs": [
        {
          "output_type": "execute_result",
          "data": {
            "text/plain": [
              "[5.843333333333332, 3.0540000000000007, 3.758666666666666, 1.1986666666666665]"
            ]
          },
          "metadata": {},
          "execution_count": 173
        }
      ],
      "source": [
        "final_mean1"
      ]
    },
    {
      "cell_type": "code",
      "execution_count": 174,
      "metadata": {
        "id": "Y2kkaDYIQWMH"
      },
      "outputs": [],
      "source": [
        "sb1 = [np.matrix(mean[0]) - np.matrix(final_mean1),np.matrix(mean[1]) - np.matrix(final_mean1),np.matrix(mean[2]) - np.matrix(final_mean1)]"
      ]
    },
    {
      "cell_type": "code",
      "execution_count": 175,
      "metadata": {
        "colab": {
          "base_uri": "https://localhost:8080/"
        },
        "id": "xyQN-J9CQWMI",
        "outputId": "79ca303b-6189-4e7a-e969-0dfe2cc3b8c6"
      },
      "outputs": [
        {
          "output_type": "stream",
          "name": "stdout",
          "text": [
            "[[-0.83733333  0.364      -2.29466667 -0.95466667]]\n"
          ]
        }
      ],
      "source": [
        "finalsb1=[]\n",
        "for i in range(4):\n",
        "    r = mean[0][i] - final_mean1[i]\n",
        "    finalsb1.append(r)\n",
        "print(np.matrix(finalsb1))\n",
        "finalsb2 = []\n",
        "for j in range(4):\n",
        "    d = mean[1][j] - final_mean1[j]\n",
        "    finalsb2.append(d)\n",
        "finalsb3 = []\n",
        "for k in range(4):\n",
        "    e = mean[2][k] - final_mean1[k]\n",
        "    finalsb3.append(e)"
      ]
    },
    {
      "cell_type": "code",
      "execution_count": 176,
      "metadata": {
        "id": "UOibzg2gQWMI"
      },
      "outputs": [],
      "source": [
        "# sb1 = np.transpose(np.matrix(finalsb1))*np.matrix(finalsb1)\n",
        "# sb1\n"
      ]
    },
    {
      "cell_type": "code",
      "source": [
        "sb1 = np.transpose(np.matrix(finalsb1)) * (np.matrix(finalsb1))\n",
        "sb1"
      ],
      "metadata": {
        "colab": {
          "base_uri": "https://localhost:8080/"
        },
        "id": "j76l57SEf4dv",
        "outputId": "d5d491f1-0588-43bf-fe91-35d9431f6344"
      },
      "execution_count": 177,
      "outputs": [
        {
          "output_type": "execute_result",
          "data": {
            "text/plain": [
              "matrix([[ 0.70112711, -0.30478933,  1.92140089,  0.79937422],\n",
              "        [-0.30478933,  0.132496  , -0.83525867, -0.34749867],\n",
              "        [ 1.92140089, -0.83525867,  5.26549511,  2.19064178],\n",
              "        [ 0.79937422, -0.34749867,  2.19064178,  0.91138844]])"
            ]
          },
          "metadata": {},
          "execution_count": 177
        }
      ]
    },
    {
      "cell_type": "code",
      "execution_count": 178,
      "metadata": {
        "colab": {
          "base_uri": "https://localhost:8080/"
        },
        "id": "JnPcDo5DQWMI",
        "outputId": "aafb4c03-8caa-4675-d57c-1910f6e9ad79"
      },
      "outputs": [
        {
          "output_type": "execute_result",
          "data": {
            "text/plain": [
              "matrix([[ 0.00858711, -0.02631733,  0.04645689,  0.01179956],\n",
              "        [-0.02631733,  0.080656  , -0.14237867, -0.03616267],\n",
              "        [ 0.04645689, -0.14237867,  0.25133511,  0.06383644],\n",
              "        [ 0.01179956, -0.03616267,  0.06383644,  0.01621378]])"
            ]
          },
          "metadata": {},
          "execution_count": 178
        }
      ],
      "source": [
        "sb2 = np.transpose(np.matrix(finalsb2)) * (np.matrix(finalsb2))\n",
        "sb2"
      ]
    },
    {
      "cell_type": "code",
      "execution_count": 179,
      "metadata": {
        "colab": {
          "base_uri": "https://localhost:8080/"
        },
        "id": "PKiOhjXiQWMJ",
        "outputId": "9d9b86df-9c2f-4c0a-fce6-d535d35a2ab5"
      },
      "outputs": [
        {
          "output_type": "execute_result",
          "data": {
            "text/plain": [
              "matrix([[ 0.55452844, -0.05957333,  1.33543556,  0.61608756],\n",
              "        [-0.05957333,  0.0064    , -0.14346667, -0.06618667],\n",
              "        [ 1.33543556, -0.14346667,  3.21604444,  1.48368444],\n",
              "        [ 0.61608756, -0.06618667,  1.48368444,  0.68448044]])"
            ]
          },
          "metadata": {},
          "execution_count": 179
        }
      ],
      "source": [
        "sb3 = np.transpose(np.matrix(finalsb3)) * (np.matrix(finalsb3))\n",
        "sb3"
      ]
    },
    {
      "cell_type": "code",
      "execution_count": 180,
      "metadata": {
        "colab": {
          "base_uri": "https://localhost:8080/"
        },
        "id": "xlaqsv3EQWMJ",
        "outputId": "c4eda4fe-b4c5-4b2f-8dfb-1b40a0aa61d0"
      },
      "outputs": [
        {
          "output_type": "execute_result",
          "data": {
            "text/plain": [
              "matrix([[ 1.26424267, -0.39068   ,  3.30329333,  1.42726133],\n",
              "        [-0.39068   ,  0.219552  , -1.121104  , -0.449848  ],\n",
              "        [ 3.30329333, -1.121104  ,  8.73287467,  3.73816267],\n",
              "        [ 1.42726133, -0.449848  ,  3.73816267,  1.61208267]])"
            ]
          },
          "metadata": {},
          "execution_count": 180
        }
      ],
      "source": [
        "sb = sb1 + sb2 + sb3\n",
        "sb"
      ]
    },
    {
      "cell_type": "code",
      "execution_count": 181,
      "metadata": {
        "id": "wc7QAfY2QWMK"
      },
      "outputs": [],
      "source": [
        "sb_final = 50*sb"
      ]
    },
    {
      "cell_type": "code",
      "execution_count": 182,
      "metadata": {
        "colab": {
          "base_uri": "https://localhost:8080/"
        },
        "id": "P4knQJ4xQWMK",
        "outputId": "a3617027-d36d-4de6-c87b-c6b235153de0"
      },
      "outputs": [
        {
          "output_type": "execute_result",
          "data": {
            "text/plain": [
              "matrix([[ 63.21213333, -19.534     , 165.16466667,  71.36306667],\n",
              "        [-19.534     ,  10.9776    , -56.0552    , -22.4924    ],\n",
              "        [165.16466667, -56.0552    , 436.64373333, 186.90813333],\n",
              "        [ 71.36306667, -22.4924    , 186.90813333,  80.60413333]])"
            ]
          },
          "metadata": {},
          "execution_count": 182
        }
      ],
      "source": [
        "sb_final"
      ]
    },
    {
      "cell_type": "code",
      "execution_count": 183,
      "metadata": {
        "colab": {
          "base_uri": "https://localhost:8080/",
          "height": 423
        },
        "id": "ulIqE5srQWML",
        "outputId": "a25a1f43-c94b-467b-e001-62efa6621d5b"
      },
      "outputs": [
        {
          "output_type": "execute_result",
          "data": {
            "text/plain": [
              "      Id  SepalLengthCm  SepalWidthCm  PetalLengthCm  PetalWidthCm  \\\n",
              "0      1            5.1           3.5            1.4           0.2   \n",
              "1      2            4.9           3.0            1.4           0.2   \n",
              "2      3            4.7           3.2            1.3           0.2   \n",
              "3      4            4.6           3.1            1.5           0.2   \n",
              "4      5            5.0           3.6            1.4           0.2   \n",
              "..   ...            ...           ...            ...           ...   \n",
              "145  146            6.7           3.0            5.2           2.3   \n",
              "146  147            6.3           2.5            5.0           1.9   \n",
              "147  148            6.5           3.0            5.2           2.0   \n",
              "148  149            6.2           3.4            5.4           2.3   \n",
              "149  150            5.9           3.0            5.1           1.8   \n",
              "\n",
              "            Species  \n",
              "0       Iris-setosa  \n",
              "1       Iris-setosa  \n",
              "2       Iris-setosa  \n",
              "3       Iris-setosa  \n",
              "4       Iris-setosa  \n",
              "..              ...  \n",
              "145  Iris-virginica  \n",
              "146  Iris-virginica  \n",
              "147  Iris-virginica  \n",
              "148  Iris-virginica  \n",
              "149  Iris-virginica  \n",
              "\n",
              "[150 rows x 6 columns]"
            ],
            "text/html": [
              "\n",
              "  <div id=\"df-2e5cd615-e641-4b3e-9d06-8d03a58192b1\">\n",
              "    <div class=\"colab-df-container\">\n",
              "      <div>\n",
              "<style scoped>\n",
              "    .dataframe tbody tr th:only-of-type {\n",
              "        vertical-align: middle;\n",
              "    }\n",
              "\n",
              "    .dataframe tbody tr th {\n",
              "        vertical-align: top;\n",
              "    }\n",
              "\n",
              "    .dataframe thead th {\n",
              "        text-align: right;\n",
              "    }\n",
              "</style>\n",
              "<table border=\"1\" class=\"dataframe\">\n",
              "  <thead>\n",
              "    <tr style=\"text-align: right;\">\n",
              "      <th></th>\n",
              "      <th>Id</th>\n",
              "      <th>SepalLengthCm</th>\n",
              "      <th>SepalWidthCm</th>\n",
              "      <th>PetalLengthCm</th>\n",
              "      <th>PetalWidthCm</th>\n",
              "      <th>Species</th>\n",
              "    </tr>\n",
              "  </thead>\n",
              "  <tbody>\n",
              "    <tr>\n",
              "      <th>0</th>\n",
              "      <td>1</td>\n",
              "      <td>5.1</td>\n",
              "      <td>3.5</td>\n",
              "      <td>1.4</td>\n",
              "      <td>0.2</td>\n",
              "      <td>Iris-setosa</td>\n",
              "    </tr>\n",
              "    <tr>\n",
              "      <th>1</th>\n",
              "      <td>2</td>\n",
              "      <td>4.9</td>\n",
              "      <td>3.0</td>\n",
              "      <td>1.4</td>\n",
              "      <td>0.2</td>\n",
              "      <td>Iris-setosa</td>\n",
              "    </tr>\n",
              "    <tr>\n",
              "      <th>2</th>\n",
              "      <td>3</td>\n",
              "      <td>4.7</td>\n",
              "      <td>3.2</td>\n",
              "      <td>1.3</td>\n",
              "      <td>0.2</td>\n",
              "      <td>Iris-setosa</td>\n",
              "    </tr>\n",
              "    <tr>\n",
              "      <th>3</th>\n",
              "      <td>4</td>\n",
              "      <td>4.6</td>\n",
              "      <td>3.1</td>\n",
              "      <td>1.5</td>\n",
              "      <td>0.2</td>\n",
              "      <td>Iris-setosa</td>\n",
              "    </tr>\n",
              "    <tr>\n",
              "      <th>4</th>\n",
              "      <td>5</td>\n",
              "      <td>5.0</td>\n",
              "      <td>3.6</td>\n",
              "      <td>1.4</td>\n",
              "      <td>0.2</td>\n",
              "      <td>Iris-setosa</td>\n",
              "    </tr>\n",
              "    <tr>\n",
              "      <th>...</th>\n",
              "      <td>...</td>\n",
              "      <td>...</td>\n",
              "      <td>...</td>\n",
              "      <td>...</td>\n",
              "      <td>...</td>\n",
              "      <td>...</td>\n",
              "    </tr>\n",
              "    <tr>\n",
              "      <th>145</th>\n",
              "      <td>146</td>\n",
              "      <td>6.7</td>\n",
              "      <td>3.0</td>\n",
              "      <td>5.2</td>\n",
              "      <td>2.3</td>\n",
              "      <td>Iris-virginica</td>\n",
              "    </tr>\n",
              "    <tr>\n",
              "      <th>146</th>\n",
              "      <td>147</td>\n",
              "      <td>6.3</td>\n",
              "      <td>2.5</td>\n",
              "      <td>5.0</td>\n",
              "      <td>1.9</td>\n",
              "      <td>Iris-virginica</td>\n",
              "    </tr>\n",
              "    <tr>\n",
              "      <th>147</th>\n",
              "      <td>148</td>\n",
              "      <td>6.5</td>\n",
              "      <td>3.0</td>\n",
              "      <td>5.2</td>\n",
              "      <td>2.0</td>\n",
              "      <td>Iris-virginica</td>\n",
              "    </tr>\n",
              "    <tr>\n",
              "      <th>148</th>\n",
              "      <td>149</td>\n",
              "      <td>6.2</td>\n",
              "      <td>3.4</td>\n",
              "      <td>5.4</td>\n",
              "      <td>2.3</td>\n",
              "      <td>Iris-virginica</td>\n",
              "    </tr>\n",
              "    <tr>\n",
              "      <th>149</th>\n",
              "      <td>150</td>\n",
              "      <td>5.9</td>\n",
              "      <td>3.0</td>\n",
              "      <td>5.1</td>\n",
              "      <td>1.8</td>\n",
              "      <td>Iris-virginica</td>\n",
              "    </tr>\n",
              "  </tbody>\n",
              "</table>\n",
              "<p>150 rows × 6 columns</p>\n",
              "</div>\n",
              "      <button class=\"colab-df-convert\" onclick=\"convertToInteractive('df-2e5cd615-e641-4b3e-9d06-8d03a58192b1')\"\n",
              "              title=\"Convert this dataframe to an interactive table.\"\n",
              "              style=\"display:none;\">\n",
              "        \n",
              "  <svg xmlns=\"http://www.w3.org/2000/svg\" height=\"24px\"viewBox=\"0 0 24 24\"\n",
              "       width=\"24px\">\n",
              "    <path d=\"M0 0h24v24H0V0z\" fill=\"none\"/>\n",
              "    <path d=\"M18.56 5.44l.94 2.06.94-2.06 2.06-.94-2.06-.94-.94-2.06-.94 2.06-2.06.94zm-11 1L8.5 8.5l.94-2.06 2.06-.94-2.06-.94L8.5 2.5l-.94 2.06-2.06.94zm10 10l.94 2.06.94-2.06 2.06-.94-2.06-.94-.94-2.06-.94 2.06-2.06.94z\"/><path d=\"M17.41 7.96l-1.37-1.37c-.4-.4-.92-.59-1.43-.59-.52 0-1.04.2-1.43.59L10.3 9.45l-7.72 7.72c-.78.78-.78 2.05 0 2.83L4 21.41c.39.39.9.59 1.41.59.51 0 1.02-.2 1.41-.59l7.78-7.78 2.81-2.81c.8-.78.8-2.07 0-2.86zM5.41 20L4 18.59l7.72-7.72 1.47 1.35L5.41 20z\"/>\n",
              "  </svg>\n",
              "      </button>\n",
              "      \n",
              "  <style>\n",
              "    .colab-df-container {\n",
              "      display:flex;\n",
              "      flex-wrap:wrap;\n",
              "      gap: 12px;\n",
              "    }\n",
              "\n",
              "    .colab-df-convert {\n",
              "      background-color: #E8F0FE;\n",
              "      border: none;\n",
              "      border-radius: 50%;\n",
              "      cursor: pointer;\n",
              "      display: none;\n",
              "      fill: #1967D2;\n",
              "      height: 32px;\n",
              "      padding: 0 0 0 0;\n",
              "      width: 32px;\n",
              "    }\n",
              "\n",
              "    .colab-df-convert:hover {\n",
              "      background-color: #E2EBFA;\n",
              "      box-shadow: 0px 1px 2px rgba(60, 64, 67, 0.3), 0px 1px 3px 1px rgba(60, 64, 67, 0.15);\n",
              "      fill: #174EA6;\n",
              "    }\n",
              "\n",
              "    [theme=dark] .colab-df-convert {\n",
              "      background-color: #3B4455;\n",
              "      fill: #D2E3FC;\n",
              "    }\n",
              "\n",
              "    [theme=dark] .colab-df-convert:hover {\n",
              "      background-color: #434B5C;\n",
              "      box-shadow: 0px 1px 3px 1px rgba(0, 0, 0, 0.15);\n",
              "      filter: drop-shadow(0px 1px 2px rgba(0, 0, 0, 0.3));\n",
              "      fill: #FFFFFF;\n",
              "    }\n",
              "  </style>\n",
              "\n",
              "      <script>\n",
              "        const buttonEl =\n",
              "          document.querySelector('#df-2e5cd615-e641-4b3e-9d06-8d03a58192b1 button.colab-df-convert');\n",
              "        buttonEl.style.display =\n",
              "          google.colab.kernel.accessAllowed ? 'block' : 'none';\n",
              "\n",
              "        async function convertToInteractive(key) {\n",
              "          const element = document.querySelector('#df-2e5cd615-e641-4b3e-9d06-8d03a58192b1');\n",
              "          const dataTable =\n",
              "            await google.colab.kernel.invokeFunction('convertToInteractive',\n",
              "                                                     [key], {});\n",
              "          if (!dataTable) return;\n",
              "\n",
              "          const docLinkHtml = 'Like what you see? Visit the ' +\n",
              "            '<a target=\"_blank\" href=https://colab.research.google.com/notebooks/data_table.ipynb>data table notebook</a>'\n",
              "            + ' to learn more about interactive tables.';\n",
              "          element.innerHTML = '';\n",
              "          dataTable['output_type'] = 'display_data';\n",
              "          await google.colab.output.renderOutput(dataTable, element);\n",
              "          const docLink = document.createElement('div');\n",
              "          docLink.innerHTML = docLinkHtml;\n",
              "          element.appendChild(docLink);\n",
              "        }\n",
              "      </script>\n",
              "    </div>\n",
              "  </div>\n",
              "  "
            ]
          },
          "metadata": {},
          "execution_count": 183
        }
      ],
      "source": [
        "df"
      ]
    },
    {
      "cell_type": "code",
      "execution_count": 184,
      "metadata": {
        "id": "M8x7JZ8BQWML"
      },
      "outputs": [],
      "source": [
        "def mean_feature(X):\n",
        "    sum1 = sum(X)\n",
        "    mean = sum1/len(X)\n",
        "    return mean"
      ]
    },
    {
      "cell_type": "code",
      "execution_count": 185,
      "metadata": {
        "id": "O_DcTmrnQWML"
      },
      "outputs": [],
      "source": [
        "x11 = class1['SepalLengthCm'] - mean_feature(class1['SepalLengthCm'])"
      ]
    },
    {
      "cell_type": "code",
      "execution_count": 186,
      "metadata": {
        "id": "7_5iGTzLQWML"
      },
      "outputs": [],
      "source": [
        "x12 = class1['SepalWidthCm'] - mean_feature(class1['SepalWidthCm'])\n",
        "x13 = class1['PetalLengthCm'] - mean_feature(class1['PetalLengthCm'])\n",
        "x14 = class1['PetalWidthCm'] - mean_feature(class1['PetalWidthCm'])"
      ]
    },
    {
      "cell_type": "code",
      "execution_count": 187,
      "metadata": {
        "id": "tXlWY3nAQWML"
      },
      "outputs": [],
      "source": [
        "x21 = class2['SepalLengthCm'] - mean_feature(class2['SepalLengthCm'])\n",
        "x22 = class2['SepalWidthCm'] - mean_feature(class2['SepalWidthCm'])\n",
        "x23 = class2['PetalLengthCm'] - mean_feature(class2['PetalLengthCm'])\n",
        "x24 = class2['PetalWidthCm'] - mean_feature(class2['PetalWidthCm'])"
      ]
    },
    {
      "cell_type": "code",
      "execution_count": 188,
      "metadata": {
        "id": "oN4T9ZzLQWMM"
      },
      "outputs": [],
      "source": [
        "x31 = class3['SepalLengthCm'] - mean_feature(class3['SepalLengthCm'])\n",
        "x32 = class3['SepalWidthCm'] - mean_feature(class3['SepalWidthCm'])\n",
        "x33 = class3['PetalLengthCm'] - mean_feature(class3['PetalLengthCm'])\n",
        "x34 = class3['PetalWidthCm'] - mean_feature(class3['PetalWidthCm'])"
      ]
    },
    {
      "cell_type": "code",
      "execution_count": 189,
      "metadata": {
        "id": "6l3fzs_lQWMM"
      },
      "outputs": [],
      "source": [
        "S1 = [x11,x12,x13,x14]"
      ]
    },
    {
      "cell_type": "code",
      "execution_count": 190,
      "metadata": {
        "id": "bmSstGWtQWMM"
      },
      "outputs": [],
      "source": [
        "S1_final = np.matrix(S1)*np.transpose(np.matrix(S1))"
      ]
    },
    {
      "cell_type": "code",
      "execution_count": 191,
      "metadata": {
        "colab": {
          "base_uri": "https://localhost:8080/"
        },
        "id": "FMEKjCDoQWMN",
        "outputId": "e0e138b8-a48a-48a2-c70d-f69cda5f4df4"
      },
      "outputs": [
        {
          "output_type": "execute_result",
          "data": {
            "text/plain": [
              "matrix([[6.0882, 4.9146, 0.7908, 0.5168],\n",
              "        [4.9146, 7.1138, 0.5724, 0.5604],\n",
              "        [0.7908, 0.5724, 1.4752, 0.2792],\n",
              "        [0.5168, 0.5604, 0.2792, 0.5632]])"
            ]
          },
          "metadata": {},
          "execution_count": 191
        }
      ],
      "source": [
        "S1_final"
      ]
    },
    {
      "cell_type": "code",
      "execution_count": 192,
      "metadata": {
        "colab": {
          "base_uri": "https://localhost:8080/"
        },
        "id": "bjWEN0T3QWMN",
        "outputId": "9c5edd04-1695-43a9-d57c-c8194da25329"
      },
      "outputs": [
        {
          "output_type": "execute_result",
          "data": {
            "text/plain": [
              "matrix([[13.0552,  4.174 ,  8.962 ,  2.7332],\n",
              "        [ 4.174 ,  4.825 ,  4.05  ,  2.019 ],\n",
              "        [ 8.962 ,  4.05  , 10.82  ,  3.582 ],\n",
              "        [ 2.7332,  2.019 ,  3.582 ,  1.9162]])"
            ]
          },
          "metadata": {},
          "execution_count": 192
        }
      ],
      "source": [
        "S2 = [x21,x22,x23,x24]\n",
        "S2_final = np.matrix(S2)*np.transpose(np.matrix(S2))\n",
        "S2_final\n"
      ]
    },
    {
      "cell_type": "code",
      "execution_count": 193,
      "metadata": {
        "colab": {
          "base_uri": "https://localhost:8080/"
        },
        "id": "1zlumfeeQWMN",
        "outputId": "067214ad-4b31-4de8-917d-fbc956266c53"
      },
      "outputs": [
        {
          "output_type": "execute_result",
          "data": {
            "text/plain": [
              "matrix([[19.8128,  4.5944, 14.8612,  2.4056],\n",
              "        [ 4.5944,  5.0962,  3.4976,  2.3338],\n",
              "        [14.8612,  3.4976, 14.9248,  2.3924],\n",
              "        [ 2.4056,  2.3338,  2.3924,  3.6962]])"
            ]
          },
          "metadata": {},
          "execution_count": 193
        }
      ],
      "source": [
        "S3 = [x31,x32,x33,x34]\n",
        "S3_final = np.matrix(S3)*np.transpose(np.matrix(S3))\n",
        "S3_final"
      ]
    },
    {
      "cell_type": "code",
      "execution_count": 194,
      "metadata": {
        "colab": {
          "base_uri": "https://localhost:8080/"
        },
        "id": "y6QnYp56QWMO",
        "outputId": "41c923c3-141d-49f7-a0c6-b67a4f057bae"
      },
      "outputs": [
        {
          "output_type": "execute_result",
          "data": {
            "text/plain": [
              "matrix([[38.9562, 13.683 , 24.614 ,  5.6556],\n",
              "        [13.683 , 17.035 ,  8.12  ,  4.9132],\n",
              "        [24.614 ,  8.12  , 27.22  ,  6.2536],\n",
              "        [ 5.6556,  4.9132,  6.2536,  6.1756]])"
            ]
          },
          "metadata": {},
          "execution_count": 194
        }
      ],
      "source": [
        "SW = S1_final + S2_final + S3_final\n",
        "SW"
      ]
    },
    {
      "cell_type": "code",
      "execution_count": 195,
      "metadata": {
        "id": "AqbEFvEwQWMO"
      },
      "outputs": [],
      "source": [
        "matrix = np.linalg.inv(SW) * sb_final"
      ]
    },
    {
      "cell_type": "code",
      "execution_count": 196,
      "metadata": {
        "colab": {
          "base_uri": "https://localhost:8080/"
        },
        "id": "ci8XeRLWQWMP",
        "outputId": "80a16981-905f-4bb0-ee7e-441aa028772b"
      },
      "outputs": [
        {
          "output_type": "execute_result",
          "data": {
            "text/plain": [
              "matrix([[ -3.02470965,   1.04854437,  -8.01870636,  -3.4248604 ],\n",
              "        [ -5.62090497,   2.15249209, -15.10841483,  -6.38266059],\n",
              "        [  8.02895738,  -2.86543716,  21.36865869,   9.09844555],\n",
              "        [ 10.66719946,  -3.41325116,  27.99053514,  12.05308354]])"
            ]
          },
          "metadata": {},
          "execution_count": 196
        }
      ],
      "source": [
        "matrix"
      ]
    },
    {
      "cell_type": "code",
      "execution_count": 197,
      "metadata": {
        "id": "M_eZT6EZQWMP"
      },
      "outputs": [],
      "source": [
        "eigen_values, eigen_vectors = np.linalg.eig(matrix)"
      ]
    },
    {
      "cell_type": "code",
      "execution_count": 198,
      "metadata": {
        "colab": {
          "base_uri": "https://localhost:8080/"
        },
        "id": "42qN8uInQWMQ",
        "outputId": "41e14569-48f4-4b0d-c7f8-8af7f023d0ca"
      },
      "outputs": [
        {
          "output_type": "execute_result",
          "data": {
            "text/plain": [
              "array([ 3.22719578e+01,  2.77566864e-01,  8.48258263e-16, -6.40783335e-15])"
            ]
          },
          "metadata": {},
          "execution_count": 198
        }
      ],
      "source": [
        "eigen_values"
      ]
    },
    {
      "cell_type": "code",
      "execution_count": 199,
      "metadata": {
        "colab": {
          "base_uri": "https://localhost:8080/"
        },
        "id": "ZxrChlauQWMQ",
        "outputId": "6b0b1929-597f-4763-ff67-66baa20c2163"
      },
      "outputs": [
        {
          "output_type": "execute_result",
          "data": {
            "text/plain": [
              "matrix([[ 0.20490976, -0.00898234,  0.88423729,  0.41101375],\n",
              "        [ 0.38714331, -0.58899857, -0.30288795,  0.16241115],\n",
              "        [-0.54648218,  0.25428655, -0.2790971 ,  0.23585593],\n",
              "        [-0.71378517, -0.76703217, -0.22020017, -0.86548385]])"
            ]
          },
          "metadata": {},
          "execution_count": 199
        }
      ],
      "source": [
        "eigen_vectors"
      ]
    },
    {
      "cell_type": "markdown",
      "source": [
        "**Question 3 : Finally, project the dataset using these linear discriminates\n",
        "and plot the newly projected iris data.**"
      ],
      "metadata": {
        "id": "iF8KK4F0muQB"
      }
    },
    {
      "cell_type": "code",
      "execution_count": 200,
      "metadata": {
        "id": "NYDpZfTTQWMR",
        "colab": {
          "base_uri": "https://localhost:8080/"
        },
        "outputId": "3fcfc576-acd5-4347-f620-c552c545b85f"
      },
      "outputs": [
        {
          "output_type": "execute_result",
          "data": {
            "text/plain": [
              "[32.271957799729826,\n",
              " 0.2775668638400532,\n",
              " 8.482582626927755e-16,\n",
              " -6.407833353808196e-15]"
            ]
          },
          "metadata": {},
          "execution_count": 200
        }
      ],
      "source": [
        "sorted(eigen_values,reverse=True)"
      ]
    },
    {
      "cell_type": "code",
      "execution_count": 201,
      "metadata": {
        "id": "_om62hD9QWMR"
      },
      "outputs": [],
      "source": [
        "# eigen_values"
      ]
    },
    {
      "cell_type": "code",
      "execution_count": 202,
      "metadata": {
        "colab": {
          "base_uri": "https://localhost:8080/"
        },
        "id": "xfmI9fJyQWMS",
        "outputId": "16e15148-71b2-4e6b-b77e-a1c9754a201c"
      },
      "outputs": [
        {
          "output_type": "execute_result",
          "data": {
            "text/plain": [
              "array([[ 0.20490976, -0.00898234,  0.88423729,  0.41101375],\n",
              "       [ 0.38714331, -0.58899857, -0.30288795,  0.16241115],\n",
              "       [-0.54648218,  0.25428655, -0.2790971 ,  0.23585593],\n",
              "       [-0.71378517, -0.76703217, -0.22020017, -0.86548385]])"
            ]
          },
          "metadata": {},
          "execution_count": 202
        }
      ],
      "source": [
        "eigen_vectors = np.array(eigen_vectors)\n",
        "eigen_vectors"
      ]
    },
    {
      "cell_type": "code",
      "execution_count": 203,
      "metadata": {
        "id": "hvXrUvxyQWMS"
      },
      "outputs": [],
      "source": [
        "eigen_vectors1 = []\n",
        "for i in range(4):\n",
        "    eigen_vectors1.append(eigen_vectors[i][0])\n",
        "\n",
        "eigen_vectors2 = []\n",
        "for j in range(4):\n",
        "    eigen_vectors2.append(eigen_vectors[j][1])\n"
      ]
    },
    {
      "cell_type": "code",
      "execution_count": 204,
      "metadata": {
        "colab": {
          "base_uri": "https://localhost:8080/"
        },
        "id": "5mfwJxgEQWMS",
        "outputId": "3c9fcfa6-fcab-40a2-81fe-33938f2a3db1"
      },
      "outputs": [
        {
          "output_type": "execute_result",
          "data": {
            "text/plain": [
              "(2, 4)"
            ]
          },
          "metadata": {},
          "execution_count": 204
        }
      ],
      "source": [
        "W = np.matrix([eigen_vectors1,eigen_vectors2])\n",
        "W.shape"
      ]
    },
    {
      "cell_type": "code",
      "execution_count": 205,
      "metadata": {
        "colab": {
          "base_uri": "https://localhost:8080/"
        },
        "id": "2xqW50qHQWMT",
        "outputId": "73296cf9-1f96-4016-91ff-247ebf9382f4"
      },
      "outputs": [
        {
          "output_type": "stream",
          "name": "stdout",
          "text": [
            "Variance\n",
            "0.9914724756595078\n",
            "0.008527524340492506\n",
            "2.6060542249397715e-17\n",
            "-1.968641146081e-16\n"
          ]
        }
      ],
      "source": [
        "eigen_values_sum = sum(eigen_values)\n",
        "print(\"Variance\")\n",
        "for i in range(len(eigen_values)):\n",
        "    p = eigen_values[i]/eigen_values_sum\n",
        "    print(p)"
      ]
    },
    {
      "cell_type": "code",
      "execution_count": 206,
      "metadata": {
        "id": "kAO9-N3RQWMT"
      },
      "outputs": [],
      "source": [
        "df1 = df.drop(['Id','Species'],axis = 1)\n",
        "X = df1.to_numpy()\n",
        "Y = np.matrix(X) * np.transpose(W) \n"
      ]
    },
    {
      "cell_type": "code",
      "execution_count": 207,
      "metadata": {
        "id": "d6BZQufnQWMT",
        "colab": {
          "base_uri": "https://localhost:8080/",
          "height": 423
        },
        "outputId": "6b913c9f-dab5-40da-d87b-ca16b9d728b1"
      },
      "outputs": [
        {
          "output_type": "execute_result",
          "data": {
            "text/plain": [
              "            0         1\n",
              "0    1.492209 -1.904710\n",
              "1    1.257656 -1.608414\n",
              "2    1.348751 -1.749846\n",
              "3    1.180249 -1.639191\n",
              "4    1.510433 -1.962712\n",
              "..        ...       ...\n",
              "145 -1.949088 -2.269061\n",
              "146 -1.829813 -1.715014\n",
              "147 -1.775934 -2.037155\n",
              "148 -2.005982 -2.449312\n",
              "149 -1.701475 -1.903788\n",
              "\n",
              "[150 rows x 2 columns]"
            ],
            "text/html": [
              "\n",
              "  <div id=\"df-da47a992-1dae-42da-946b-680a82289de9\">\n",
              "    <div class=\"colab-df-container\">\n",
              "      <div>\n",
              "<style scoped>\n",
              "    .dataframe tbody tr th:only-of-type {\n",
              "        vertical-align: middle;\n",
              "    }\n",
              "\n",
              "    .dataframe tbody tr th {\n",
              "        vertical-align: top;\n",
              "    }\n",
              "\n",
              "    .dataframe thead th {\n",
              "        text-align: right;\n",
              "    }\n",
              "</style>\n",
              "<table border=\"1\" class=\"dataframe\">\n",
              "  <thead>\n",
              "    <tr style=\"text-align: right;\">\n",
              "      <th></th>\n",
              "      <th>0</th>\n",
              "      <th>1</th>\n",
              "    </tr>\n",
              "  </thead>\n",
              "  <tbody>\n",
              "    <tr>\n",
              "      <th>0</th>\n",
              "      <td>1.492209</td>\n",
              "      <td>-1.904710</td>\n",
              "    </tr>\n",
              "    <tr>\n",
              "      <th>1</th>\n",
              "      <td>1.257656</td>\n",
              "      <td>-1.608414</td>\n",
              "    </tr>\n",
              "    <tr>\n",
              "      <th>2</th>\n",
              "      <td>1.348751</td>\n",
              "      <td>-1.749846</td>\n",
              "    </tr>\n",
              "    <tr>\n",
              "      <th>3</th>\n",
              "      <td>1.180249</td>\n",
              "      <td>-1.639191</td>\n",
              "    </tr>\n",
              "    <tr>\n",
              "      <th>4</th>\n",
              "      <td>1.510433</td>\n",
              "      <td>-1.962712</td>\n",
              "    </tr>\n",
              "    <tr>\n",
              "      <th>...</th>\n",
              "      <td>...</td>\n",
              "      <td>...</td>\n",
              "    </tr>\n",
              "    <tr>\n",
              "      <th>145</th>\n",
              "      <td>-1.949088</td>\n",
              "      <td>-2.269061</td>\n",
              "    </tr>\n",
              "    <tr>\n",
              "      <th>146</th>\n",
              "      <td>-1.829813</td>\n",
              "      <td>-1.715014</td>\n",
              "    </tr>\n",
              "    <tr>\n",
              "      <th>147</th>\n",
              "      <td>-1.775934</td>\n",
              "      <td>-2.037155</td>\n",
              "    </tr>\n",
              "    <tr>\n",
              "      <th>148</th>\n",
              "      <td>-2.005982</td>\n",
              "      <td>-2.449312</td>\n",
              "    </tr>\n",
              "    <tr>\n",
              "      <th>149</th>\n",
              "      <td>-1.701475</td>\n",
              "      <td>-1.903788</td>\n",
              "    </tr>\n",
              "  </tbody>\n",
              "</table>\n",
              "<p>150 rows × 2 columns</p>\n",
              "</div>\n",
              "      <button class=\"colab-df-convert\" onclick=\"convertToInteractive('df-da47a992-1dae-42da-946b-680a82289de9')\"\n",
              "              title=\"Convert this dataframe to an interactive table.\"\n",
              "              style=\"display:none;\">\n",
              "        \n",
              "  <svg xmlns=\"http://www.w3.org/2000/svg\" height=\"24px\"viewBox=\"0 0 24 24\"\n",
              "       width=\"24px\">\n",
              "    <path d=\"M0 0h24v24H0V0z\" fill=\"none\"/>\n",
              "    <path d=\"M18.56 5.44l.94 2.06.94-2.06 2.06-.94-2.06-.94-.94-2.06-.94 2.06-2.06.94zm-11 1L8.5 8.5l.94-2.06 2.06-.94-2.06-.94L8.5 2.5l-.94 2.06-2.06.94zm10 10l.94 2.06.94-2.06 2.06-.94-2.06-.94-.94-2.06-.94 2.06-2.06.94z\"/><path d=\"M17.41 7.96l-1.37-1.37c-.4-.4-.92-.59-1.43-.59-.52 0-1.04.2-1.43.59L10.3 9.45l-7.72 7.72c-.78.78-.78 2.05 0 2.83L4 21.41c.39.39.9.59 1.41.59.51 0 1.02-.2 1.41-.59l7.78-7.78 2.81-2.81c.8-.78.8-2.07 0-2.86zM5.41 20L4 18.59l7.72-7.72 1.47 1.35L5.41 20z\"/>\n",
              "  </svg>\n",
              "      </button>\n",
              "      \n",
              "  <style>\n",
              "    .colab-df-container {\n",
              "      display:flex;\n",
              "      flex-wrap:wrap;\n",
              "      gap: 12px;\n",
              "    }\n",
              "\n",
              "    .colab-df-convert {\n",
              "      background-color: #E8F0FE;\n",
              "      border: none;\n",
              "      border-radius: 50%;\n",
              "      cursor: pointer;\n",
              "      display: none;\n",
              "      fill: #1967D2;\n",
              "      height: 32px;\n",
              "      padding: 0 0 0 0;\n",
              "      width: 32px;\n",
              "    }\n",
              "\n",
              "    .colab-df-convert:hover {\n",
              "      background-color: #E2EBFA;\n",
              "      box-shadow: 0px 1px 2px rgba(60, 64, 67, 0.3), 0px 1px 3px 1px rgba(60, 64, 67, 0.15);\n",
              "      fill: #174EA6;\n",
              "    }\n",
              "\n",
              "    [theme=dark] .colab-df-convert {\n",
              "      background-color: #3B4455;\n",
              "      fill: #D2E3FC;\n",
              "    }\n",
              "\n",
              "    [theme=dark] .colab-df-convert:hover {\n",
              "      background-color: #434B5C;\n",
              "      box-shadow: 0px 1px 3px 1px rgba(0, 0, 0, 0.15);\n",
              "      filter: drop-shadow(0px 1px 2px rgba(0, 0, 0, 0.3));\n",
              "      fill: #FFFFFF;\n",
              "    }\n",
              "  </style>\n",
              "\n",
              "      <script>\n",
              "        const buttonEl =\n",
              "          document.querySelector('#df-da47a992-1dae-42da-946b-680a82289de9 button.colab-df-convert');\n",
              "        buttonEl.style.display =\n",
              "          google.colab.kernel.accessAllowed ? 'block' : 'none';\n",
              "\n",
              "        async function convertToInteractive(key) {\n",
              "          const element = document.querySelector('#df-da47a992-1dae-42da-946b-680a82289de9');\n",
              "          const dataTable =\n",
              "            await google.colab.kernel.invokeFunction('convertToInteractive',\n",
              "                                                     [key], {});\n",
              "          if (!dataTable) return;\n",
              "\n",
              "          const docLinkHtml = 'Like what you see? Visit the ' +\n",
              "            '<a target=\"_blank\" href=https://colab.research.google.com/notebooks/data_table.ipynb>data table notebook</a>'\n",
              "            + ' to learn more about interactive tables.';\n",
              "          element.innerHTML = '';\n",
              "          dataTable['output_type'] = 'display_data';\n",
              "          await google.colab.output.renderOutput(dataTable, element);\n",
              "          const docLink = document.createElement('div');\n",
              "          docLink.innerHTML = docLinkHtml;\n",
              "          element.appendChild(docLink);\n",
              "        }\n",
              "      </script>\n",
              "    </div>\n",
              "  </div>\n",
              "  "
            ]
          },
          "metadata": {},
          "execution_count": 207
        }
      ],
      "source": [
        "df2 = pd.DataFrame(Y)\n",
        "df2"
      ]
    },
    {
      "cell_type": "code",
      "execution_count": 208,
      "metadata": {
        "id": "Vnyaa_9dQWMU"
      },
      "outputs": [],
      "source": [
        "class1_lda = df2[0:50]\n",
        "class2_lda = df2[50:100]\n",
        "class3_lda = df2[100:150]\n",
        "# class2_lda"
      ]
    },
    {
      "cell_type": "code",
      "execution_count": 209,
      "metadata": {
        "id": "bgFi1cgaQWMU",
        "colab": {
          "base_uri": "https://localhost:8080/",
          "height": 282
        },
        "outputId": "1e98ba57-bcad-45d5-ecba-cccf4ffcd6b8"
      },
      "outputs": [
        {
          "output_type": "execute_result",
          "data": {
            "text/plain": [
              "<matplotlib.collections.PathCollection at 0x7fd0e1514f10>"
            ]
          },
          "metadata": {},
          "execution_count": 209
        },
        {
          "output_type": "display_data",
          "data": {
            "text/plain": [
              "<Figure size 432x288 with 1 Axes>"
            ],
            "image/png": "[encoded data removed]"
          },
          "metadata": {
            "needs_background": "light"
          }
        }
      ],
      "source": [
        "plt.scatter(class1_lda[0],class1_lda[1])\n",
        "plt.scatter(class2_lda[0],class2_lda[1])\n",
        "plt.scatter(class3_lda[0],class3_lda[1])"
      ]
    },
    {
      "cell_type": "code",
      "execution_count": 209,
      "metadata": {
        "id": "TUKOwTilQWMW"
      },
      "outputs": [],
      "source": []
    }
  ],
  "metadata": {
    "kernelspec": {
      "display_name": "Python 3 (ipykernel)",
      "language": "python",
      "name": "python3"
    },
    "language_info": {
      "codemirror_mode": {
        "name": "ipython",
        "version": 3
      },
      "file_extension": ".py",
      "mimetype": "text/x-python",
      "name": "python",
      "nbconvert_exporter": "python",
      "pygments_lexer": "ipython3",
      "version": "3.7.16"
    },
    "colab": {
      "provenance": []
    }
  },
  "nbformat": 4,
  "nbformat_minor": 0
}