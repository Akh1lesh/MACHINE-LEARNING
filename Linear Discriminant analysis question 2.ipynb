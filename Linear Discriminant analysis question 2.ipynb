{
 "cells": [
  {
   "cell_type": "code",
   "execution_count": 1,
   "id": "e4de978c",
   "metadata": {},
   "outputs": [],
   "source": [
    "w1 = [[1,1],[1,2],[1,4],[2,1],[3,1],[3,3]]\n",
    "w2 = [[2,2],[3,2],[3,4],[5,1],[5,4],[5,5]]"
   ]
  },
  {
   "cell_type": "code",
   "execution_count": 2,
   "id": "9b0eb6e6",
   "metadata": {},
   "outputs": [
    {
     "data": {
      "text/html": [
       "<div>\n",
       "<style scoped>\n",
       "    .dataframe tbody tr th:only-of-type {\n",
       "        vertical-align: middle;\n",
       "    }\n",
       "\n",
       "    .dataframe tbody tr th {\n",
       "        vertical-align: top;\n",
       "    }\n",
       "\n",
       "    .dataframe thead th {\n",
       "        text-align: right;\n",
       "    }\n",
       "</style>\n",
       "<table border=\"1\" class=\"dataframe\">\n",
       "  <thead>\n",
       "    <tr style=\"text-align: right;\">\n",
       "      <th></th>\n",
       "      <th>X1</th>\n",
       "      <th>X2</th>\n",
       "      <th>Class</th>\n",
       "    </tr>\n",
       "  </thead>\n",
       "  <tbody>\n",
       "    <tr>\n",
       "      <th>0</th>\n",
       "      <td>1</td>\n",
       "      <td>1</td>\n",
       "      <td>w1</td>\n",
       "    </tr>\n",
       "    <tr>\n",
       "      <th>1</th>\n",
       "      <td>1</td>\n",
       "      <td>2</td>\n",
       "      <td>w1</td>\n",
       "    </tr>\n",
       "    <tr>\n",
       "      <th>2</th>\n",
       "      <td>1</td>\n",
       "      <td>4</td>\n",
       "      <td>w1</td>\n",
       "    </tr>\n",
       "    <tr>\n",
       "      <th>3</th>\n",
       "      <td>2</td>\n",
       "      <td>1</td>\n",
       "      <td>w1</td>\n",
       "    </tr>\n",
       "    <tr>\n",
       "      <th>4</th>\n",
       "      <td>3</td>\n",
       "      <td>1</td>\n",
       "      <td>w1</td>\n",
       "    </tr>\n",
       "    <tr>\n",
       "      <th>5</th>\n",
       "      <td>3</td>\n",
       "      <td>3</td>\n",
       "      <td>w1</td>\n",
       "    </tr>\n",
       "    <tr>\n",
       "      <th>6</th>\n",
       "      <td>2</td>\n",
       "      <td>2</td>\n",
       "      <td>w2</td>\n",
       "    </tr>\n",
       "    <tr>\n",
       "      <th>7</th>\n",
       "      <td>3</td>\n",
       "      <td>2</td>\n",
       "      <td>w2</td>\n",
       "    </tr>\n",
       "    <tr>\n",
       "      <th>8</th>\n",
       "      <td>3</td>\n",
       "      <td>4</td>\n",
       "      <td>w2</td>\n",
       "    </tr>\n",
       "    <tr>\n",
       "      <th>9</th>\n",
       "      <td>5</td>\n",
       "      <td>1</td>\n",
       "      <td>w2</td>\n",
       "    </tr>\n",
       "    <tr>\n",
       "      <th>10</th>\n",
       "      <td>5</td>\n",
       "      <td>4</td>\n",
       "      <td>w2</td>\n",
       "    </tr>\n",
       "    <tr>\n",
       "      <th>11</th>\n",
       "      <td>5</td>\n",
       "      <td>5</td>\n",
       "      <td>w2</td>\n",
       "    </tr>\n",
       "  </tbody>\n",
       "</table>\n",
       "</div>"
      ],
      "text/plain": [
       "    X1  X2 Class\n",
       "0    1   1    w1\n",
       "1    1   2    w1\n",
       "2    1   4    w1\n",
       "3    2   1    w1\n",
       "4    3   1    w1\n",
       "5    3   3    w1\n",
       "6    2   2    w2\n",
       "7    3   2    w2\n",
       "8    3   4    w2\n",
       "9    5   1    w2\n",
       "10   5   4    w2\n",
       "11   5   5    w2"
      ]
     },
     "execution_count": 2,
     "metadata": {},
     "output_type": "execute_result"
    }
   ],
   "source": [
    "import numpy as np\n",
    "import pandas as pd\n",
    "W = [[1,1,'w1'],[1,2,'w1'],[1,4,'w1'],[2,1,'w1'],[3,1,'w1'],[3,3,'w1'],[2,2,'w2'],[3,2,'w2'],[3,4,'w2'],[5,1,'w2'],[5,4,'w2'],[5,5,'w2']]\n",
    "df = pd.DataFrame(W,columns = ['X1','X2','Class'])\n",
    "df"
   ]
  },
  {
   "cell_type": "code",
   "execution_count": 3,
   "id": "8fde22a4",
   "metadata": {},
   "outputs": [
    {
     "data": {
      "text/plain": [
       "<matplotlib.collections.PathCollection at 0x7f796a6d0750>"
      ]
     },
     "execution_count": 3,
     "metadata": {},
     "output_type": "execute_result"
    },
    {
     "data": {
      "image/png": "[encoded data removed]",
      "text/plain": [
       "<Figure size 640x480 with 1 Axes>"
      ]
     },
     "metadata": {},
     "output_type": "display_data"
    }
   ],
   "source": [
    "import matplotlib.pyplot as plt\n",
    "x = df['X1'][0:6]\n",
    "y = df['X2'][0:6]\n",
    "plt.scatter(x, y)\n",
    "u = df['X1'][6:12]\n",
    "v = df['X2'][6:12]\n",
    "plt.scatter(u,v)"
   ]
  },
  {
   "cell_type": "code",
   "execution_count": 4,
   "id": "37c2bcf3",
   "metadata": {},
   "outputs": [],
   "source": [
    "sum1 = 0\n",
    "for i in range(len(w1)):\n",
    "    sum1 = sum1 + w1[i][0]\n",
    "mean11 = sum1 / len(w1)\n",
    "\n",
    "sum2 = 0\n",
    "for j in range(len(w1)):\n",
    "    sum2 = sum2 + w1[j][1]\n",
    "mean12 = sum2/len(w1)\n",
    "mean1 = [mean11,mean12]"
   ]
  },
  {
   "cell_type": "code",
   "execution_count": 5,
   "id": "28934d62",
   "metadata": {},
   "outputs": [
    {
     "data": {
      "text/plain": [
       "[1.8333333333333333, 2.0]"
      ]
     },
     "execution_count": 5,
     "metadata": {},
     "output_type": "execute_result"
    }
   ],
   "source": [
    "mean1"
   ]
  },
  {
   "cell_type": "code",
   "execution_count": 6,
   "id": "0173d21c",
   "metadata": {},
   "outputs": [],
   "source": [
    "sum3 = 0\n",
    "for i in range(len(w2)):\n",
    "    sum3 = sum3 + w2[i][0]\n",
    "mean21 = sum3 / len(w2)\n",
    "\n",
    "sum4 = 0\n",
    "for j in range(len(w2)):\n",
    "    sum4 = sum4 + w2[j][1]\n",
    "mean22 = sum4/len(w2)\n",
    "mean2 = [mean21,mean22]"
   ]
  },
  {
   "cell_type": "code",
   "execution_count": 7,
   "id": "112e5b9d",
   "metadata": {},
   "outputs": [
    {
     "data": {
      "text/plain": [
       "[3.8333333333333335, 3.0]"
      ]
     },
     "execution_count": 7,
     "metadata": {},
     "output_type": "execute_result"
    }
   ],
   "source": [
    "mean2"
   ]
  },
  {
   "cell_type": "code",
   "execution_count": 8,
   "id": "48979b31",
   "metadata": {},
   "outputs": [
    {
     "data": {
      "text/plain": [
       "[[-0.8333333333333333, -1.0],\n",
       " [-0.8333333333333333, 0.0],\n",
       " [-0.8333333333333333, 2.0],\n",
       " [0.16666666666666674, -1.0],\n",
       " [1.1666666666666667, -1.0],\n",
       " [1.1666666666666667, 1.0]]"
      ]
     },
     "execution_count": 8,
     "metadata": {},
     "output_type": "execute_result"
    }
   ],
   "source": [
    "import numpy as np\n",
    "w11=[]\n",
    "p=[]\n",
    "#w1[0] - mean1\n",
    "for i in range(len(w1)):\n",
    "    a = w1[i][0] - mean1[0]\n",
    "    b = w1[i][1] - mean1[1]\n",
    "    w11.append([a,b])\n",
    "w11"
   ]
  },
  {
   "cell_type": "code",
   "execution_count": 9,
   "id": "a201e22f",
   "metadata": {},
   "outputs": [
    {
     "data": {
      "text/plain": [
       "[[-1.8333333333333335, -1.0],\n",
       " [-0.8333333333333335, -1.0],\n",
       " [-0.8333333333333335, 1.0],\n",
       " [1.1666666666666665, -2.0],\n",
       " [1.1666666666666665, 1.0],\n",
       " [1.1666666666666665, 2.0]]"
      ]
     },
     "execution_count": 9,
     "metadata": {},
     "output_type": "execute_result"
    }
   ],
   "source": [
    "w21=[]\n",
    "q=[]\n",
    "#w1[0] - mean1\n",
    "for i in range(len(w2)):\n",
    "    a = w2[i][0] - mean2[0]\n",
    "    b = w2[i][1] - mean2[1]\n",
    "    w21.append([a,b])\n",
    "w21"
   ]
  },
  {
   "cell_type": "code",
   "execution_count": 10,
   "id": "6479c867",
   "metadata": {},
   "outputs": [
    {
     "data": {
      "text/plain": [
       "matrix([[0.69444444, 0.83333333],\n",
       "        [0.83333333, 1.        ]])"
      ]
     },
     "execution_count": 10,
     "metadata": {},
     "output_type": "execute_result"
    }
   ],
   "source": [
    "np.matrix(w11[0]).transpose()*np.matrix(w11[0])"
   ]
  },
  {
   "cell_type": "code",
   "execution_count": 11,
   "id": "9a7f53d1",
   "metadata": {},
   "outputs": [
    {
     "data": {
      "text/plain": [
       "[matrix([[0.69444444, 0.83333333],\n",
       "         [0.83333333, 1.        ]]),\n",
       " matrix([[0.69444444, 0.        ],\n",
       "         [0.        , 0.        ]]),\n",
       " matrix([[ 0.69444444, -1.66666667],\n",
       "         [-1.66666667,  4.        ]]),\n",
       " matrix([[ 0.02777778, -0.16666667],\n",
       "         [-0.16666667,  1.        ]]),\n",
       " matrix([[ 1.36111111, -1.16666667],\n",
       "         [-1.16666667,  1.        ]]),\n",
       " matrix([[1.36111111, 1.16666667],\n",
       "         [1.16666667, 1.        ]])]"
      ]
     },
     "execution_count": 11,
     "metadata": {},
     "output_type": "execute_result"
    }
   ],
   "source": [
    "s11 = []\n",
    "for i in range(len(w11)):\n",
    "    s11.append(np.matrix(w11[i]).transpose()*np.matrix(w11[i]))\n",
    "s11"
   ]
  },
  {
   "cell_type": "code",
   "execution_count": 12,
   "id": "9d91d1d1",
   "metadata": {},
   "outputs": [
    {
     "data": {
      "text/plain": [
       "matrix([[ 4.83333333, -1.        ],\n",
       "        [-1.        ,  8.        ]])"
      ]
     },
     "execution_count": 12,
     "metadata": {},
     "output_type": "execute_result"
    }
   ],
   "source": [
    "s1 = 0\n",
    "for i in range(len(s11)):\n",
    "    s1 = s1 + s11[i]\n",
    "s1"
   ]
  },
  {
   "cell_type": "code",
   "execution_count": 13,
   "id": "5eaae70b",
   "metadata": {},
   "outputs": [
    {
     "data": {
      "text/plain": [
       "[matrix([[3.36111111, 1.83333333],\n",
       "         [1.83333333, 1.        ]]),\n",
       " matrix([[0.69444444, 0.83333333],\n",
       "         [0.83333333, 1.        ]]),\n",
       " matrix([[ 0.69444444, -0.83333333],\n",
       "         [-0.83333333,  1.        ]]),\n",
       " matrix([[ 1.36111111, -2.33333333],\n",
       "         [-2.33333333,  4.        ]]),\n",
       " matrix([[1.36111111, 1.16666667],\n",
       "         [1.16666667, 1.        ]]),\n",
       " matrix([[1.36111111, 2.33333333],\n",
       "         [2.33333333, 4.        ]])]"
      ]
     },
     "execution_count": 13,
     "metadata": {},
     "output_type": "execute_result"
    }
   ],
   "source": [
    "s22 = []\n",
    "for i in range(len(w21)):\n",
    "    s22.append(np.matrix(w21[i]).transpose()*np.matrix(w21[i]))\n",
    "s22"
   ]
  },
  {
   "cell_type": "code",
   "execution_count": 14,
   "id": "8a5fdcda",
   "metadata": {},
   "outputs": [
    {
     "data": {
      "text/plain": [
       "matrix([[ 8.83333333,  3.        ],\n",
       "        [ 3.        , 12.        ]])"
      ]
     },
     "execution_count": 14,
     "metadata": {},
     "output_type": "execute_result"
    }
   ],
   "source": [
    "s2 = 0\n",
    "for i in range(len(s22)):\n",
    "    s2 = s2 + s22[i]\n",
    "s2"
   ]
  },
  {
   "cell_type": "code",
   "execution_count": 15,
   "id": "c1040838",
   "metadata": {},
   "outputs": [],
   "source": [
    "sw = s1 + s2"
   ]
  },
  {
   "cell_type": "code",
   "execution_count": 16,
   "id": "048d003d",
   "metadata": {},
   "outputs": [
    {
     "data": {
      "text/plain": [
       "matrix([[13.66666667,  2.        ],\n",
       "        [ 2.        , 20.        ]])"
      ]
     },
     "execution_count": 16,
     "metadata": {},
     "output_type": "execute_result"
    }
   ],
   "source": [
    "sw"
   ]
  },
  {
   "cell_type": "code",
   "execution_count": 17,
   "id": "b61205bd",
   "metadata": {},
   "outputs": [],
   "source": [
    "W = np.linalg.inv(sw) * (np.matrix(np.matrix(mean1) - np.matrix(mean2))).transpose()"
   ]
  },
  {
   "cell_type": "code",
   "execution_count": 18,
   "id": "b0db5013",
   "metadata": {},
   "outputs": [
    {
     "data": {
      "text/plain": [
       "matrix([[-0.14108911],\n",
       "        [-0.03589109]])"
      ]
     },
     "execution_count": 18,
     "metadata": {},
     "output_type": "execute_result"
    }
   ],
   "source": [
    "W"
   ]
  },
  {
   "cell_type": "code",
   "execution_count": 19,
   "id": "0797d6dc",
   "metadata": {},
   "outputs": [
    {
     "data": {
      "text/plain": [
       "[matrix([[-0.1769802]]),\n",
       " matrix([[-0.21287129]]),\n",
       " matrix([[-0.28465347]]),\n",
       " matrix([[-0.31806931]]),\n",
       " matrix([[-0.45915842]]),\n",
       " matrix([[-0.53094059]])]"
      ]
     },
     "execution_count": 19,
     "metadata": {},
     "output_type": "execute_result"
    }
   ],
   "source": [
    "w1_projected=[]\n",
    "for i in range(len(w1)):\n",
    "    w1_projected.append((W.transpose()*np.matrix(w1[i]).transpose())[0])\n",
    "w1_projected\n"
   ]
  },
  {
   "cell_type": "code",
   "execution_count": 20,
   "id": "ec40f759",
   "metadata": {},
   "outputs": [
    {
     "data": {
      "text/plain": [
       "[matrix([[-0.3539604]]),\n",
       " matrix([[-0.4950495]]),\n",
       " matrix([[-0.56683168]]),\n",
       " matrix([[-0.74133663]]),\n",
       " matrix([[-0.8490099]]),\n",
       " matrix([[-0.88490099]])]"
      ]
     },
     "execution_count": 20,
     "metadata": {},
     "output_type": "execute_result"
    }
   ],
   "source": [
    "w2_projected=[]\n",
    "for j in range(len(w2)):\n",
    "    w2_projected.append(W.transpose()*np.matrix(w2[j]).transpose())\n",
    "w2_projected"
   ]
  },
  {
   "cell_type": "code",
   "execution_count": 21,
   "id": "02f33df3",
   "metadata": {},
   "outputs": [
    {
     "data": {
      "text/plain": [
       "matrix([[-0.33044554]])"
      ]
     },
     "execution_count": 21,
     "metadata": {},
     "output_type": "execute_result"
    }
   ],
   "source": [
    "sum_projected1 = 0\n",
    "for i in range(len(w1_projected)):\n",
    "    sum_projected1 = sum_projected1 + w1_projected[i]\n",
    "mean1_projected = sum_projected1 / len(w1_projected)\n",
    "mean1_projected"
   ]
  },
  {
   "cell_type": "code",
   "execution_count": 22,
   "id": "b6595cf4",
   "metadata": {},
   "outputs": [
    {
     "data": {
      "text/plain": [
       "matrix([[-0.64851485]])"
      ]
     },
     "execution_count": 22,
     "metadata": {},
     "output_type": "execute_result"
    }
   ],
   "source": [
    "sum_projected2 = 0\n",
    "for i in range(len(w2_projected)):\n",
    "    sum_projected2 = sum_projected2 + w2_projected[i]\n",
    "mean2_projected = sum_projected2 / len(w2_projected)\n",
    "mean2_projected"
   ]
  },
  {
   "cell_type": "code",
   "execution_count": 23,
   "id": "9ed805e6",
   "metadata": {},
   "outputs": [
    {
     "data": {
      "text/plain": [
       "[<matplotlib.lines.Line2D at 0x7f79682182d0>]"
      ]
     },
     "execution_count": 23,
     "metadata": {},
     "output_type": "execute_result"
    },
    {
     "data": {
      "image/png": "[encoded data removed]",
      "text/plain": [
       "<Figure size 640x480 with 1 Axes>"
      ]
     },
     "metadata": {},
     "output_type": "display_data"
    }
   ],
   "source": [
    "w1_projected = [-0.1769802,-0.21287129,-0.28465347,-0.31806931,-0.45915842,-0.53094059]\n",
    "plt.plot(w1_projected)\n",
    "\n",
    "w2_projected = [-0.3539604,-0.4950495,-0.56683168,-0.74133663,-0.8490099,-0.88490099]\n",
    "plt.plot(w2_projected)"
   ]
  },
  {
   "cell_type": "code",
   "execution_count": 1,
   "id": "2a769541",
   "metadata": {},
   "outputs": [
    {
     "ename": "ModuleNotFoundError",
     "evalue": "No module named 'sklearn.linear'",
     "output_type": "error",
     "traceback": [
      "\u001b[0;31m---------------------------------------------------------------------------\u001b[0m",
      "\u001b[0;31mModuleNotFoundError\u001b[0m                       Traceback (most recent call last)",
      "\u001b[0;32m/tmp/ipykernel_11114/3945093827.py\u001b[0m in \u001b[0;36m<module>\u001b[0;34m\u001b[0m\n\u001b[0;32m----> 1\u001b[0;31m \u001b[0;32mfrom\u001b[0m \u001b[0msklearn\u001b[0m\u001b[0;34m.\u001b[0m\u001b[0mlinear\u001b[0m\u001b[0;34m.\u001b[0m\u001b[0mmodel\u001b[0m \u001b[0;32mimport\u001b[0m \u001b[0mLinearRegression\u001b[0m\u001b[0;34m\u001b[0m\u001b[0;34m\u001b[0m\u001b[0m\n\u001b[0m",
      "\u001b[0;31mModuleNotFoundError\u001b[0m: No module named 'sklearn.linear'"
     ]
    }
   ],
   "source": [
    "from sklearn.linear.model import Linear\\ Discriminant\\ analysis\\ question\\ 2.ipynbRegression"
   ]
  },
  {
   "cell_type": "code",
   "execution_count": 2,
   "id": "6cbc82c8",
   "metadata": {},
   "outputs": [],
   "source": [
    "import sklearn"
   ]
  },
  {
   "cell_type": "code",
   "execution_count": null,
   "id": "5aaadf55",
   "metadata": {},
   "outputs": [],
   "source": []
  }
 ],
 "metadata": {
  "kernelspec": {
   "display_name": "Python 3 (ipykernel)",
   "language": "python",
   "name": "python3"
  },
  "language_info": {
   "codemirror_mode": {
    "name": "ipython",
    "version": 3
   },
   "file_extension": ".py",
   "mimetype": "text/x-python",
   "name": "python",
   "nbconvert_exporter": "python",
   "pygments_lexer": "ipython3",
   "version": "3.7.15"
  }
 },
 "nbformat": 4,
 "nbformat_minor": 5
}
