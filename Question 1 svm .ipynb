{
 "cells": [
  {
   "cell_type": "code",
   "execution_count": 1,
   "id": "1c0b4f75",
   "metadata": {},
   "outputs": [
    {
     "name": "stdout",
     "output_type": "stream",
     "text": [
      "w =  [[ 1.00048166e+00 -1.66533454e-16]]\n",
      "b =  [-2.00112388]\n",
      "Support vectors =  [[ 1.  0.]\n",
      " [ 3.  1.]\n",
      " [ 3. -1.]]\n",
      "Number of support vectors for each class =  [1 2]\n"
     ]
    }
   ],
   "source": [
    "from sklearn.svm import SVC\n",
    "import numpy as np\n",
    "X = np.array([[3,1],[3,-1],[6,1],[6,-1],[1,0],[0,1],[0,-1],[-1,0]])\n",
    "y = np.array([1,1,1,1, -1 , -1,-1,-1 ])\n",
    "\n",
    "clf = SVC(C = 1e5, kernel = 'linear')\n",
    "clf.fit(X, y) \n",
    "\n",
    "print('w = ',clf.coef_)\n",
    "print('b = ',clf.intercept_)\n",
    "print('Support vectors = ', clf.support_vectors_)\n",
    "print('Number of support vectors for each class = ', clf.n_support_)\n"
   ]
  },
  {
   "cell_type": "code",
   "execution_count": null,
   "id": "9213c5b9",
   "metadata": {},
   "outputs": [],
   "source": []
  }
 ],
 "metadata": {
  "kernelspec": {
   "display_name": "Python 3 (ipykernel)",
   "language": "python",
   "name": "python3"
  },
  "language_info": {
   "codemirror_mode": {
    "name": "ipython",
    "version": 3
   },
   "file_extension": ".py",
   "mimetype": "text/x-python",
   "name": "python",
   "nbconvert_exporter": "python",
   "pygments_lexer": "ipython3",
   "version": "3.7.15"
  }
 },
 "nbformat": 4,
 "nbformat_minor": 5
}
